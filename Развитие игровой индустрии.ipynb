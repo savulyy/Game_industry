{
 "cells": [
  {
   "cell_type": "markdown",
   "id": "e06910dd",
   "metadata": {
    "id": "e06910dd"
   },
   "source": [
    "# Развитие игровой индустрии\n",
    "\n",
    "- Автор: Савина Юлия\n",
    "- Дата:28/05/2025"
   ]
  },
  {
   "cell_type": "markdown",
   "id": "4149134c",
   "metadata": {
    "id": "4149134c"
   },
   "source": [
    "## Цели и задачи проекта\n",
    "\n",
    "- Выделить топ-7 платформ по количеству игр, выпущенных за весь требуемый период.\n",
    "\n",
    "- Категоризовать игры по оценкам пользователей и экспертов. Выделите три категории:\n",
    "   - высокая оценка — с оценкой от 8 до 10 и от 80 до 100, включая правые границы интервалов.\n",
    "   - средняя оценка — с оценкой от 3 до 8 и от 30 до 80, не включая правые границы интервалов.\n",
    "   - низкая оценка — с оценкой от 0 до 3 и от 0 до 30, не включая правые границы интервалов."
   ]
  },
  {
   "cell_type": "markdown",
   "id": "728986ea",
   "metadata": {
    "id": "728986ea"
   },
   
   "source": [
    "### Содержимое проекта\n",
    "\n",
    "- Знакомимся с данными\n",
    "  - Выводим столбцы таблицы и типы данных\n",
    "  - Выводим само содержимое таблицы\n",
    "- Предобработка данных\n",
    "  - приводим столбцы к единому стилю\n",
    "  - корректируем типы данных\n",
    "  - работа с пропусками\n",
    "  - работа с дубликатами\n",
    "- Фильтрация данных\n",
    "- Категоризация данных\n",
    "- Вывод на экран топовых платформ\n",
    "- Вывод"
   ]
  },
  {
   "cell_type": "markdown",
   "id": "6f7d21d6",
   "metadata": {
    "id": "6f7d21d6"
   },
   "source": [
    "## 1. Загрузка данных и знакомство с ними\n",
    "\n",
    "- Загрузим необходимые библиотеки Python и данные датасета `new_games.csv`.\n"
   ]
  },
  {
   "cell_type": "code",
   "execution_count": 1,
   "id": "ebb66dc5",
   "metadata": {
    "id": "ebb66dc5"
   },
   "outputs": [],
   "source": [
    "import pandas as pd\n",
    "import numpy\n",
    "df = pd.read_csv('datasets/new_games.csv')"
   ]
  },
  
  {
   "cell_type": "markdown",
   "id": "26267bc0",
   "metadata": {
    "id": "26267bc0"
   },
   "source": [
    "Вывод о полученных данных:\n",
    "\n",
    "Данные занимают 1.4 MB, данные соответсвуют описанию.\n",
    "В стобцах name, year of release, genre, critic score,user score, rating присутсвуют пропуски.\n",
    "Year of release, EU sales, JP sales, User Score имеют неверный тип данных"
   ]
  },
  {
   "cell_type": "markdown",
   "id": "136aa646",
   "metadata": {},
   "source": [
    "Первые строки таблицы:"
   ]
  },
  {
   "cell_type": "code",
   "execution_count": 3,
   "id": "a8ae95e9",
   "metadata": {},
   "outputs": [
    {
     "data": {
      "text/html": [
       "<div>\n",
       "<style scoped>\n",
       "    .dataframe tbody tr th:only-of-type {\n",
       "        vertical-align: middle;\n",
       "    }\n",
       "\n",
       "    .dataframe tbody tr th {\n",
       "        vertical-align: top;\n",
       "    }\n",
       "\n",
       "    .dataframe thead th {\n",
       "        text-align: right;\n",
       "    }\n",
       "</style>\n",
       "<table border=\"1\" class=\"dataframe\">\n",
       "  <thead>\n",
       "    <tr style=\"text-align: right;\">\n",
       "      <th></th>\n",
       "      <th>Name</th>\n",
       "      <th>Platform</th>\n",
       "      <th>Year of Release</th>\n",
       "      <th>Genre</th>\n",
       "      <th>NA sales</th>\n",
       "      <th>EU sales</th>\n",
       "      <th>JP sales</th>\n",
       "      <th>Other sales</th>\n",
       "      <th>Critic Score</th>\n",
       "      <th>User Score</th>\n",
       "      <th>Rating</th>\n",
       "    </tr>\n",
       "  </thead>\n",
       "  <tbody>\n",
       "    <tr>\n",
       "      <th>0</th>\n",
       "      <td>Wii Sports</td>\n",
       "      <td>Wii</td>\n",
       "      <td>2006.0</td>\n",
       "      <td>Sports</td>\n",
       "      <td>41.36</td>\n",
       "      <td>28.96</td>\n",
       "      <td>3.77</td>\n",
       "      <td>8.45</td>\n",
       "      <td>76.0</td>\n",
       "      <td>8</td>\n",
       "      <td>E</td>\n",
       "    </tr>\n",
       "    <tr>\n",
       "      <th>1</th>\n",
       "      <td>Super Mario Bros.</td>\n",
       "      <td>NES</td>\n",
       "      <td>1985.0</td>\n",
       "      <td>Platform</td>\n",
       "      <td>29.08</td>\n",
       "      <td>3.58</td>\n",
       "      <td>6.81</td>\n",
       "      <td>0.77</td>\n",
       "      <td>NaN</td>\n",
       "      <td>NaN</td>\n",
       "      <td>NaN</td>\n",
       "    </tr>\n",
       "    <tr>\n",
       "      <th>2</th>\n",
       "      <td>Mario Kart Wii</td>\n",
       "      <td>Wii</td>\n",
       "      <td>2008.0</td>\n",
       "      <td>Racing</td>\n",
       "      <td>15.68</td>\n",
       "      <td>12.76</td>\n",
       "      <td>3.79</td>\n",
       "      <td>3.29</td>\n",
       "      <td>82.0</td>\n",
       "      <td>8.3</td>\n",
       "      <td>E</td>\n",
       "    </tr>\n",
       "    <tr>\n",
       "      <th>3</th>\n",
       "      <td>Wii Sports Resort</td>\n",
       "      <td>Wii</td>\n",
       "      <td>2009.0</td>\n",
       "      <td>Sports</td>\n",
       "      <td>15.61</td>\n",
       "      <td>10.93</td>\n",
       "      <td>3.28</td>\n",
       "      <td>2.95</td>\n",
       "      <td>80.0</td>\n",
       "      <td>8</td>\n",
       "      <td>E</td>\n",
       "    </tr>\n",
       "    <tr>\n",
       "      <th>4</th>\n",
       "      <td>Pokemon Red/Pokemon Blue</td>\n",
       "      <td>GB</td>\n",
       "      <td>1996.0</td>\n",
       "      <td>Role-Playing</td>\n",
       "      <td>11.27</td>\n",
       "      <td>8.89</td>\n",
       "      <td>10.22</td>\n",
       "      <td>1.00</td>\n",
       "      <td>NaN</td>\n",
       "      <td>NaN</td>\n",
       "      <td>NaN</td>\n",
       "    </tr>\n",
       "  </tbody>\n",
       "</table>\n",
       "</div>"
      ],
      "text/plain": [
       "                       Name Platform  Year of Release         Genre  NA sales  \\\n",
       "0                Wii Sports      Wii           2006.0        Sports     41.36   \n",
       "1         Super Mario Bros.      NES           1985.0      Platform     29.08   \n",
       "2            Mario Kart Wii      Wii           2008.0        Racing     15.68   \n",
       "3         Wii Sports Resort      Wii           2009.0        Sports     15.61   \n",
       "4  Pokemon Red/Pokemon Blue       GB           1996.0  Role-Playing     11.27   \n",
       "\n",
       "  EU sales JP sales  Other sales  Critic Score User Score Rating  \n",
       "0    28.96     3.77         8.45          76.0          8      E  \n",
       "1     3.58     6.81         0.77           NaN        NaN    NaN  \n",
       "2    12.76     3.79         3.29          82.0        8.3      E  \n",
       "3    10.93     3.28         2.95          80.0          8      E  \n",
       "4     8.89    10.22         1.00           NaN        NaN    NaN  "
      ]
     },
     "metadata": {},
     "output_type": "display_data"
    }
   ],
   "source": [
    "display(df.head())"
   ]
  },
  {
   "cell_type": "markdown",
   "id": "774bf76e",
   "metadata": {
    "id": "774bf76e"
   },
   "source": [
    "---\n",
    "\n",
    "## 2.  Проверка ошибок в данных и их предобработка\n",
    "\n",
    "\n",
    "### Названия, или метки, столбцов датафрейма\n",
    "\n",
    "- Выведем на экран названия всех столбцов датафрейма и проверим их стиль написания."
   ]
  },
  {
   "cell_type": "code",
   "execution_count": 4,
   "id": "b9276a2b",
   "metadata": {
    "id": "b9276a2b"
   },
   "outputs": [
    {
     "name": "stdout",
     "output_type": "stream",
     "text": [
      "Index(['Name', 'Platform', 'Year of Release', 'Genre', 'NA sales', 'EU sales',\n",
      "       'JP sales', 'Other sales', 'Critic Score', 'User Score', 'Rating'],\n",
      "      dtype='object')\n"
     ]
    }
   ],
   "source": [
    "print(df.columns)"
   ]
  },
  {
   "cell_type": "markdown",
   "id": "2b007bde",
   "metadata": {},
   "source": [
    "- Приведем названия столбцов к стилю snake case. Названия теперь в нижнем регистре, а вместо пробелов — подчёркивания."
   ]
  },
  {
   "cell_type": "code",
   "execution_count": 5,
   "id": "f5e0f3c6",
   "metadata": {
    "id": "d554563c"
   },
   "outputs": [
    {
     "name": "stdout",
     "output_type": "stream",
     "text": [
      "Index(['name', 'platform', 'year_of_release', 'genre', 'na_sales', 'eu_sales',\n",
      "       'jp_sales', 'other_sales', 'critic_score', 'user_score', 'rating'],\n",
      "      dtype='object')\n"
     ]
    }
   ],
   "source": [
    "df.columns = df.columns.str.lower()\n",
    "df.columns = df.columns.str.replace(' ','_') \n",
    "print(df.columns)"
   ]
  },
  {
   "cell_type": "markdown",
   "id": "32ca1b05",
   "metadata": {},
   "source": [
    "- Приведем столбцы к стилю snake case. Названия теперь в нижнем регистре, а вместо пробелов — подчёркивания."
   ]
  },
  {
   "cell_type": "code",
   "execution_count": 6,
   "id": "77d006fc",
   "metadata": {},
   "outputs": [
    {
     "name": "stdout",
     "output_type": "stream",
     "text": [
      "                                name platform  year_of_release         genre  \\\n",
      "0                         wii_sports      wii           2006.0        sports   \n",
      "1                  super_mario_bros.      nes           1985.0      platform   \n",
      "2                     mario_kart_wii      wii           2008.0        racing   \n",
      "3                  wii_sports_resort      wii           2009.0        sports   \n",
      "4           pokemon_red/pokemon_blue       gb           1996.0  role-playing   \n",
      "...                              ...      ...              ...           ...   \n",
      "16951  samurai_warriors:_sanada_maru      ps3           2016.0        action   \n",
      "16952               lma_manager_2007     x360           2006.0        sports   \n",
      "16953        haitaka_no_psychedelica      psv           2016.0     adventure   \n",
      "16954               spirits_&_spells      gba           2003.0      platform   \n",
      "16955            winning_post_8_2016      psv           2016.0    simulation   \n",
      "\n",
      "       na_sales eu_sales jp_sales  other_sales  critic_score user_score rating  \n",
      "0         41.36    28.96     3.77         8.45          76.0          8      e  \n",
      "1         29.08     3.58     6.81         0.77           NaN        NaN    NaN  \n",
      "2         15.68    12.76     3.79         3.29          82.0        8.3      e  \n",
      "3         15.61    10.93     3.28         2.95          80.0          8      e  \n",
      "4         11.27     8.89    10.22         1.00           NaN        NaN    NaN  \n",
      "...         ...      ...      ...          ...           ...        ...    ...  \n",
      "16951      0.00      0.0     0.01         0.00           NaN        NaN    NaN  \n",
      "16952      0.00     0.01      0.0         0.00           NaN        NaN    NaN  \n",
      "16953      0.00      0.0     0.01         0.00           NaN        NaN    NaN  \n",
      "16954      0.01      0.0      0.0         0.00           NaN        NaN    NaN  \n",
      "16955      0.00      0.0     0.01         0.00           NaN        NaN    NaN  \n",
      "\n",
      "[16956 rows x 11 columns]\n"
     ]
    }
   ],
   "source": [
    "def low(column):\n",
    "    if column.dtype == 'object':\n",
    "        column = column.str.lower()\n",
    "        return column.str.replace(' ', '_')\n",
    "    return column\n",
    "df = df.apply(low,axis=0)\n",
    "print(df)"
   ]
  },
  {
   "cell_type": "markdown",
   "id": "41bc6bf8",
   "metadata": {
    "id": "41bc6bf8"
   },
   "source": [
    "### Типы данных"
   ]
  },
  {
   "cell_type": "markdown",
   "id": "689aebe6",
   "metadata": {},
   "source": [
    "Некорретктные типы данных могут образоваться из за пропусков."
   ]
  },
  {
   "cell_type": "markdown",
   "id": "63378edf",
   "metadata": {
    "id": "63378edf"
   },
   "source": [
    "- В числовых столбцах могут встретиться строковые значения, например `unknown` или другие. Приведем такие столбцы к числовому типу данных, заменив строковые значения на пропуски."
   ]
  },
  {
   "cell_type": "code",
   "execution_count": 7,
   "id": "5e84825d",
   "metadata": {},
   "outputs": [
    {
     "name": "stdout",
     "output_type": "stream",
     "text": [
      "name object\n",
      "platform object\n",
      "year_of_release float64\n",
      "genre object\n",
      "na_sales float64\n",
      "eu_sales float64\n",
      "jp_sales float64\n",
      "other_sales float64\n",
      "critic_score float64\n",
      "user_score float64\n",
      "rating object\n"
     ]
    }
   ],
   "source": [
    "df['na_sales'] = pd.to_numeric(df['na_sales'], errors = 'coerce')\n",
    "df['eu_sales'] = pd.to_numeric(df['eu_sales'], errors = 'coerce')\n",
    "df['jp_sales'] = pd.to_numeric(df['jp_sales'], errors = 'coerce')\n",
    "df['other_sales'] = pd.to_numeric(df['other_sales'], errors = 'coerce')\n",
    "df['critic_score'] = pd.to_numeric(df['critic_score'], errors = 'coerce')\n",
    "df['user_score'] = pd.to_numeric(df['user_score'], errors = 'coerce')\n",
    "for col in df.columns.tolist():\n",
    "    print(col, df[col].dtype)"
   ]
  },
  {
   "cell_type": "markdown",
   "id": "b39893cb",
   "metadata": {
    "id": "b39893cb"
   },
   "source": [
    "### Наличие пропусков в данных\n",
    "\n",
    "- Посчитайте количество пропусков в каждом столбце в абсолютных и относительных значениях.\n"
   ]
  },
  {
   "cell_type": "code",
   "execution_count": 8,
   "id": "062596f8",
   "metadata": {
    "scrolled": true
   },
   "outputs": [
    {
     "name": "stdout",
     "output_type": "stream",
     "text": [
      "столбец name имеет 2 пропусков и 0.0%\n",
      "столбец platform имеет 0 пропусков и 0.0%\n",
      "столбец year_of_release имеет 275 пропусков и 0.02%\n",
      "столбец genre имеет 2 пропусков и 0.0%\n",
      "столбец na_sales имеет 0 пропусков и 0.0%\n",
      "столбец eu_sales имеет 6 пропусков и 0.0%\n",
      "столбец jp_sales имеет 4 пропусков и 0.0%\n",
      "столбец other_sales имеет 0 пропусков и 0.0%\n",
      "столбец critic_score имеет 8714 пропусков и 0.51%\n",
      "столбец user_score имеет 9268 пропусков и 0.55%\n",
      "столбец rating имеет 6871 пропусков и 0.41%\n"
     ]
    }
   ],
   "source": [
    "for column in df.columns:\n",
    "    print(f'столбец {column} имеет {df[column].isna().sum()} пропусков и {round(df[column].isna().mean(),2)}%')"
   ]
  },
  {
   "cell_type": "markdown",
   "id": "899f925b",
   "metadata": {},
   "source": [
    "Всего 2 пропуска в столбцах name, genre - это 0% от общего кол-ва строк.Поэтому удалим строки с пропусками в этих строках."
   ]
  },
  {
   "cell_type": "code",
   "execution_count": 9,
   "id": "e8412c01",
   "metadata": {
    "id": "e8412c01"
   },
   "outputs": [],
   "source": [
    "df.dropna(subset =['name'],inplace=True)\n",
    "df.dropna(subset =['genre'],inplace=True)"
   ]
  },
  {
   "cell_type": "markdown",
   "id": "3607b842",
   "metadata": {},
   "source": [
    "Всего 4 пропуска в столбце jp sales, 6 пропусков в eu_sales - это 0% от общего кол-ва строк. Поэтому заменим пропуски на среднее значение по игровой платформе и году выхода игры. Такой подход сохранит максимум информации в данных и позволит более точно интерпретировать результаты последующего анализа."
   ]
  },
  {
   "cell_type": "code",
   "execution_count": 10,
   "id": "03bfda3f",
   "metadata": {},
   "outputs": [],
   "source": [
    "df['jp_sales'] = df['jp_sales'].fillna(\n",
    "    df.groupby(['platform','year_of_release'])['jp_sales'].transform('mean'))\n",
    "\n",
    "df['eu_sales'] = df['eu_sales'].fillna(\n",
    "    df.groupby(['platform','year_of_release'])['eu_sales'].transform('mean'))\n"
   ]
  },
  {
   "cell_type": "markdown",
   "id": "17770e73",
   "metadata": {},
   "source": [
    "В стобцах year of release,eu_sales, jp_sales, critic score,user score, rating остались пропуски."
   ]
  },
  {
   "cell_type": "markdown",
   "id": "75cf6324",
   "metadata": {},
   "source": [
    "В столбцах Critic score,user score,rating пропусков больше 40%!"
   ]
  },
  {
   "cell_type": "markdown",
   "id": "0ca1c179",
   "metadata": {},
   "source": [
    "В стобце critic score пропуски заменим на '-1', чтобы корректно преобразовать год в нужный тип данных и '-1' не исказит результаты. Сделаем это для преобразования типа данных."
   ]
  },
  {
   "cell_type": "code",
   "execution_count": 11,
   "id": "f486928f",
   "metadata": {},
   "outputs": [],
   "source": [
    "df['critic_score'] = df['critic_score'].fillna(-1)\n",
    "df['critic_score'] = df['critic_score'].astype('int64')"
   ]
  },
  {
   "cell_type": "markdown",
   "id": "c78d8503",
   "metadata": {},
   "source": [
    "Пропуски в столбце rating не влияют на вычисления,поэтому заменим пропуски на 'no rating'"
   ]
  },
  {
   "cell_type": "code",
   "execution_count": 12,
   "id": "249976c9",
   "metadata": {},
   "outputs": [],
   "source": [
    "df['rating'] = df['rating'].fillna('no_rating')"
   ]
  },
  {
   "cell_type": "markdown",
   "id": "87c60021",
   "metadata": {
    "id": "9e53cff4"
   },
   "source": [
    "В стобце year of release пропуски заменим на '0', чтобы корректно преобразовать год в нужный тип данных и '0' не исказит результаты. Год важен для дальнейшего исследования, строки нельзя удалить или заменить на что-то среднее."
   ]
  },
  {
   "cell_type": "code",
   "execution_count": 13,
   "id": "5033ee32",
   "metadata": {
    "id": "5033ee32"
   },
   "outputs": [],
   "source": [
    "df['year_of_release'] = df['year_of_release'].fillna(0)\n",
    "df['year_of_release'] = df['year_of_release'].astype('int64')"
   ]
  },
  {
   "cell_type": "markdown",
   "id": "7fee1dc6",
   "metadata": {},
   "source": [
    "Такой большой процент пропусков в user score скорее всего из за желания людей поиграть, \n",
    "они могут закрывать окно с оценкой как можно быстрее, так как голосование не является обязательным."
   ]
  },
  {
   "cell_type": "code",
   "execution_count": 14,
   "id": "3a91fdc3",
   "metadata": {},
   "outputs": [],
   "source": [
    "df['user_score'] = df['user_score'].fillna(-1)\n",
    "df['critic_score'] = df['critic_score'].fillna(-1)"
   ]
  },
  {
   "cell_type": "markdown",
   "id": "a63363fd",
   "metadata": {
    "id": "a63363fd"
   },
   "source": [
    "### Явные и неявные дубликаты в данных"
   ]
  },
  {
   "cell_type": "markdown",
   "id": "f690e106",
   "metadata": {
    "id": "491c9c39"
   },
   "source": [
    "Изучим столбцы c категориальными данными на уникальность."
   ]
  },
  {
   "cell_type": "markdown",
   "id": "777bdd22",
   "metadata": {},
   "source": [
    "- Попытаемся найти неявные дубликаты:"
   ]
  },
  {
   "cell_type": "markdown",
   "id": "cf875c98",
   "metadata": {},
   "source": [
    "platform, genre, rating:"
   ]
  },
  {
   "cell_type": "code",
   "execution_count": 15,
   "id": "816e97fc",
   "metadata": {},
   "outputs": [
    {
     "name": "stdout",
     "output_type": "stream",
     "text": [
      "platform ['2600', '3do', '3ds', 'dc', 'ds', 'gb', 'gba', 'gc', 'gen', 'gg', 'n64', 'nes', 'ng', 'pc', 'pcfx', 'ps', 'ps2', 'ps3', 'ps4', 'psp', 'psv', 'sat', 'scd', 'snes', 'tg16', 'wii', 'wiiu', 'ws', 'x360', 'xb', 'xone']\n",
      "genre ['action', 'adventure', 'fighting', 'misc', 'platform', 'puzzle', 'racing', 'role-playing', 'shooter', 'simulation', 'sports', 'strategy']\n",
      "rating ['ao', 'e', 'e10+', 'ec', 'k-a', 'm', 'no_rating', 'rp', 't']\n",
      "year_of_release [0, 1980, 1981, 1982, 1983, 1984, 1985, 1986, 1987, 1988, 1989, 1990, 1991, 1992, 1993, 1994, 1995, 1996, 1997, 1998, 1999, 2000, 2001, 2002, 2003, 2004, 2005, 2006, 2007, 2008, 2009, 2010, 2011, 2012, 2013, 2014, 2015, 2016]\n"
     ]
    }
   ],
   "source": [
    "list = ['platform','genre','rating']\n",
    "for col in list:\n",
    "    df[col] = df[col].str.strip()\n",
    "    print(col, sorted(df[col].unique()))\n",
    "print('year_of_release',sorted(df['year_of_release'].unique()))"
   ]
  },
  {
   "cell_type": "markdown",
   "id": "c7191796",
   "metadata": {
    "id": "fc5c91b5"
   },
   "source": [
    "Неявные дубликаты не были выявлены."
   ]
  },
  {
   "cell_type": "code",
   "execution_count": 16,
   "id": "6563e3e3",
   "metadata": {
    "id": "fc3d3db4"
   },
   "outputs": [],
   "source": [
    "df['rating']= df['rating'].str.upper()"
   ]
  },
  {
   "cell_type": "markdown",
   "id": "c758e589",
   "metadata": {},
   "source": [
    "<div style=\"background-color: #d4edda; color: #155724; padding: 15px; border-radius: 4px; border: 1px solid #c3e6cb;\">\n",
    "\n",
    "<b>Комментарий ревьюера v1:</b> \n",
    "    \n",
    "Здесь все верно. Здорово, что получилось обновить значения в столбцах `genre`."
   ]
  },
  {
   "cell_type": "markdown",
   "id": "813cc221",
   "metadata": {},
   "source": [
    "- Попытаемся найти явные дубликаты:"
   ]
  },
  {
   "cell_type": "code",
   "execution_count": 17,
   "id": "8ab9c910",
   "metadata": {},
   "outputs": [],
   "source": [
    "duplic = df.duplicated().sum()"
   ]
  },
  {
   "cell_type": "code",
   "execution_count": 18,
   "id": "f7db9241",
   "metadata": {},
   "outputs": [],
   "source": [
    "df_cleaned = df.drop_duplicates(keep='first')\n",
    "df_cleaned = df_cleaned.reset_index(drop=True)"
   ]
  },
  {
   "cell_type": "code",
   "execution_count": 19,
   "id": "8548f894",
   "metadata": {
    "id": "8548f894"
   },
   "outputs": [
    {
     "name": "stdout",
     "output_type": "stream",
     "text": [
      "Записей до: 16954, после удаления дубликатов: 16713\n",
      "Удалено: 241 или 0.01    \n"
     ]
    }
   ],
   "source": [
    "before = df.shape[0]\n",
    "after = df_cleaned.shape[0]\n",
    "print(f\"\"\"Записей до: {before}, после удаления дубликатов: {after}\n",
    "Удалено: {before-after} или {round((before-after)/before,2)}    \"\"\")"
   ]
  },
  {
   "cell_type": "markdown",
   "id": "54616bae",
   "metadata": {
    "id": "54616bae"
   },
   "source": [
    "Количество найденных дубликатов: 241. Они были удалены."
   ]
  },
  {
   "cell_type": "markdown",
   "id": "9974c7d7",
   "metadata": {},
   "source": [
    "Пропуски данных, которые составляют малую часть данных мы удалили, так как они не сильно будут влиять на результаты исследования. Остальные пропуски заполнили данными, которые будет легко отследить."
   ]
  },
  {
   "cell_type": "markdown",
   "id": "613f0eb0",
   "metadata": {
    "id": "613f0eb0"
   },
   "source": [
    "---\n",
    "\n",
    "## 3. Фильтрация данных\n",
    "\n",
    "Коллеги хотят изучить историю продаж игр в начале XXI века, и их интересует период с 2000 по 2013 год включительно. Отберите данные по этому показателю. Сохраните новый срез данных в отдельном датафрейме, например `df_actual`."
   ]
  },
  {
   "cell_type": "code",
   "execution_count": 20,
   "id": "2344916d",
   "metadata": {
    "id": "2344916d"
   },
   "outputs": [],
   "source": [
    "df_cleaned = df_cleaned[(df_cleaned['year_of_release']>=2000) & (df_cleaned['year_of_release']<=2013)]\n",
    "df_actual = df_cleaned"
   ]
  },
  {
   "cell_type": "markdown",
   "id": "a6f10b01",
   "metadata": {
    "id": "a6f10b01"
   },
   "source": [
    "---\n",
    "\n",
    "## 4. Категоризация данных\n",
    "    \n",
    "Проведите категоризацию данных:\n",
    "- Разделите все игры по оценкам пользователей и выделите такие категории: высокая оценка (от 8 до 10 включительно), средняя оценка (от 3 до 8, не включая правую границу интервала) и низкая оценка (от 0 до 3, не включая правую границу интервала)."
   ]
  },
  {
   "cell_type": "code",
   "execution_count": 21,
   "id": "3db87229",
   "metadata": {
    "id": "3db87229"
   },
   "outputs": [],
   "source": [
    "bins = [0, 3, 8, 10]\n",
    "labels = [\"Низкая оценка\", \"Средняя оценка\", \"Высокая оценка\"]\n",
    "\n",
    "df_actual['user_category'] = pd.cut(\n",
    "    df_actual['critic_score'], \n",
    "    bins=bins, \n",
    "    labels=labels, \n",
    "    right=False\n",
    ")\n",
    "\n",
    "\n",
    "df_actual['user_category'] = df_actual['user_category'].cat.add_categories([\"Other\", \"нет оценки\"]).fillna(\"нет оценки\")"
   ]
  },
  {
   "cell_type": "markdown",
   "id": "f8f34b40",
   "metadata": {
    "id": "f8f34b40"
   },
   "source": [
    "- Разделите все игры по оценкам критиков и выделите такие категории: высокая оценка (от 80 до 100 включительно), средняя оценка (от 30 до 80, не включая правую границу интервала) и низкая оценка (от 0 до 30, не включая правую границу интервала)."
   ]
  },
  {
   "cell_type": "code",
   "execution_count": 22,
   "id": "e3f7acb0",
   "metadata": {
    "id": "e3f7acb0"
   },
   "outputs": [],
   "source": [
    "bins = [0, 30, 80, 100]\n",
    "labels = [\"Низкая оценка\", \"Средняя оценка\", \"Высокая оценка\"]\n",
    "\n",
    "df_actual['critic_category'] = pd.cut(\n",
    "    df_actual['critic_score'], \n",
    "    bins=bins, \n",
    "    labels=labels, \n",
    "    right=False\n",
    ")\n",
    "\n",
    "\n",
    "df_actual['critic_category'] = df_actual['critic_category'].cat.add_categories([\"Other\", \"нет оценки\"]).fillna(\"нет оценки\")"
   ]
  },
  {
   "cell_type": "markdown",
   "id": "olkTlTlAUDR9",
   "metadata": {
    "id": "olkTlTlAUDR9"
   },
   "source": [
    "- После категоризации данных проверьте результат: сгруппируйте данные по выделенным категориям и посчитайте количество игр в каждой категории."
   ]
  },
  {
   "cell_type": "code",
   "execution_count": 23,
   "id": "HW0Nsp-4UMSL",
   "metadata": {
    "id": "HW0Nsp-4UMSL"
   },
   "outputs": [
    {
     "name": "stdout",
     "output_type": "stream",
     "text": [
      "user_category\n",
      "Средняя оценка        0\n",
      "Высокая оценка        0\n",
      "Other                 0\n",
      "нет оценки        12781\n",
      "Name: user_score, dtype: int64\n"
     ]
    }
   ],
   "source": [
    "user_score_category_counts = df_actual.groupby('user_category')['user_score'].count()\n",
    "print(user_score_category_counts[1:])"
   ]
  },
  {
   "cell_type": "code",
   "execution_count": 24,
   "id": "x2ne0HIpUMMD",
   "metadata": {
    "id": "x2ne0HIpUMMD"
   },
   "outputs": [
    {
     "name": "stdout",
     "output_type": "stream",
     "text": [
      "critic_category\n",
      "Средняя оценка    5422\n",
      "Высокая оценка    1692\n",
      "Other                0\n",
      "нет оценки        5612\n",
      "Name: critic_score, dtype: int64\n"
     ]
    }
   ],
   "source": [
    "critic_score_category_counts = df_actual.groupby('critic_category')['critic_score'].count()\n",
    "print(critic_score_category_counts[1:])"
   ]
  },
  {
   "cell_type": "markdown",
   "id": "6a98444c",
   "metadata": {
    "id": "6a98444c"
   },
   "source": [
    "- Выделите топ-7 платформ по количеству игр, выпущенных за весь актуальный период."
   ]
  },
  {
   "cell_type": "code",
   "execution_count": 25,
   "id": "003caa2c",
   "metadata": {
    "id": "003caa2c"
   },
   "outputs": [
    {
     "name": "stdout",
     "output_type": "stream",
     "text": [
      "platform\n",
      "ps2     2127\n",
      "ds      2120\n",
      "wii     1275\n",
      "psp     1180\n",
      "x360    1121\n",
      "ps3     1087\n",
      "gba      811\n",
      "Name: name, dtype: int64\n"
     ]
    }
   ],
   "source": [
    "platform_count = df_actual.groupby('platform')['name'].count()\n",
    "top_platforms = platform_count.sort_values(ascending=False).head(7)\n",
    "print(platform_count.sort_values(ascending=False).head(7))"
   ]
  },
  {
   "cell_type": "markdown",
   "id": "cc71159b",
   "metadata": {
    "id": "e8d8a1d0"
   },
   "source": [
    "Топ 7 платформ по количеству выпущенных игр:\n",
    "1. ps2     \n",
    "2. ds      \n",
    "3. wii     \n",
    "4. psp     \n",
    "5. x360    \n",
    "6. ps3     \n",
    "7. gba"
   ]
  },
  {
   "cell_type": "markdown",
   "id": "cb209fe9",
   "metadata": {},
   "source": [
    "# Визуализация топ-7 платформ"
   ]
  },
  {
   "cell_type": "code",
   "execution_count": 26,
   "id": "6a8dd34b",
   "metadata": {},
   "outputs": [
    {
     "data": {
      "image/png": "[encoded data removed]",
      "text/plain": [
       "<Figure size 720x432 with 1 Axes>"
      ]
     },
     "metadata": {
      "needs_background": "light"
     },
     "output_type": "display_data"
    }
   ],
   "source": [
    "import matplotlib.pyplot as plt\n",
    "plt.figure(figsize=(10, 6))\n",
    "top_platforms.plot(kind='bar') # нужно поменять на свой датафрейм\n",
    "plt.title('Топ-7 платформ по количеству выпущенных игр')\n",
    "plt.xlabel('Платформа')\n",
    "plt.ylabel('Количество игр')\n",
    "plt.xticks(rotation=45)\n",
    "plt.tight_layout()\n",
    "plt.show()"
   ]
  },
  {
   "cell_type": "code",
   "execution_count": 27,
   "id": "f9027782",
   "metadata": {},
   "outputs": [
    {
     "name": "stdout",
     "output_type": "stream",
     "text": [
      "<class 'pandas.core.frame.DataFrame'>\n",
      "Int64Index: 12781 entries, 0 to 16711\n",
      "Data columns (total 13 columns):\n",
      " #   Column           Non-Null Count  Dtype   \n",
      "---  ------           --------------  -----   \n",
      " 0   name             12781 non-null  object  \n",
      " 1   platform         12781 non-null  object  \n",
      " 2   year_of_release  12781 non-null  int64   \n",
      " 3   genre            12781 non-null  object  \n",
      " 4   na_sales         12781 non-null  float64 \n",
      " 5   eu_sales         12781 non-null  float64 \n",
      " 6   jp_sales         12781 non-null  float64 \n",
      " 7   other_sales      12781 non-null  float64 \n",
      " 8   critic_score     12781 non-null  int64   \n",
      " 9   user_score       12781 non-null  float64 \n",
      " 10  rating           12781 non-null  object  \n",
      " 11  user_category    12781 non-null  category\n",
      " 12  critic_category  12781 non-null  category\n",
      "dtypes: category(2), float64(5), int64(2), object(4)\n",
      "memory usage: 1.2+ MB\n",
      "None\n"
     ]
    }
   ],
   "source": [
    "print(df_actual.info())"
   ]
  },
  {
   "cell_type": "markdown",
   "id": "c0158881",
   "metadata": {
    "id": "c0158881"
   },
   "source": [
    "---\n",
    "\n",
    "## 5. Итоговый вывод\n",
    "\n",
    "В конце напишите основной вывод и отразите, какую работу проделали. Не забудьте указать описание среза данных и новых полей, которые добавили в исходный датасет."
   ]
  },
  {
   "cell_type": "markdown",
   "id": "4709d480",
   "metadata": {
    "id": "9fe570b3"
   },
   "source": [
    "Топ 7 платформ по количеству выпущенных игр:\n",
    "1. ps2     \n",
    "2. ds      \n",
    "3. wii     \n",
    "4. psp     \n",
    "5. x360    \n",
    "6. ps3     \n",
    "7. gba\n",
    "- Большинство игр, выпущенных с 2000 по 2013 год, имеют среднюю оценку по мнению критиков и поьзователей. Реже ставят отрицательные оценки, в этом плане пользователи выставили таких оценок в 2 раза больше чем критики. Возможно, это может быть связано с эмоциональной точки зрения, при неудаче в игре, оставляют негативную оценку."
   ]
  }
 ],
 "metadata": {
  "ExecuteTimeLog": [
   {
    "duration": 419,
    "start_time": "2025-05-28T17:32:39.767Z"
   },
   {
    "duration": 53,
    "start_time": "2025-05-28T17:32:43.191Z"
   },
   {
    "duration": 54,
    "start_time": "2025-05-28T17:34:45.305Z"
   },
   {
    "duration": 3,
    "start_time": "2025-05-28T17:34:48.503Z"
   },
   {
    "duration": 78,
    "start_time": "2025-05-28T17:34:53.337Z"
   },
   {
    "duration": 124,
    "start_time": "2025-05-28T17:35:06.823Z"
   },
   {
    "duration": 106,
    "start_time": "2025-05-28T17:35:21.754Z"
   },
   {
    "duration": 78,
    "start_time": "2025-05-28T17:35:33.951Z"
   },
   {
    "duration": 50,
    "start_time": "2025-05-29T08:49:29.978Z"
   },
   {
    "duration": 394,
    "start_time": "2025-05-29T08:49:31.731Z"
   },
   {
    "duration": 172,
    "start_time": "2025-05-29T08:49:33.288Z"
   },
   {
    "duration": 119,
    "start_time": "2025-05-29T08:58:36.740Z"
   },
   {
    "duration": 17,
    "start_time": "2025-05-29T08:58:37.499Z"
   },
   {
    "duration": 8,
    "start_time": "2025-05-29T08:59:20.389Z"
   },
   {
    "duration": 17,
    "start_time": "2025-05-29T09:00:10.617Z"
   },
   {
    "duration": 34,
    "start_time": "2025-05-29T09:00:23.921Z"
   },
   {
    "duration": 9,
    "start_time": "2025-05-29T09:00:31.804Z"
   },
   {
    "duration": 10,
    "start_time": "2025-05-29T09:00:38.587Z"
   },
   {
    "duration": 10,
    "start_time": "2025-05-29T09:02:16.889Z"
   },
   {
    "duration": 531,
    "start_time": "2025-05-29T09:02:22.281Z"
   },
   {
    "duration": 18,
    "start_time": "2025-05-29T09:02:22.814Z"
   },
   {
    "duration": 74,
    "start_time": "2025-05-29T09:02:22.834Z"
   },
   {
    "duration": 1603,
    "start_time": "2025-05-29T09:02:22.910Z"
   },
   {
    "duration": 5,
    "start_time": "2025-05-29T09:02:37.516Z"
   },
   {
    "duration": 11,
    "start_time": "2025-05-29T09:02:47.845Z"
   },
   {
    "duration": 10,
    "start_time": "2025-05-29T09:02:51.037Z"
   },
   {
    "duration": 9,
    "start_time": "2025-05-29T09:02:53.799Z"
   },
   {
    "duration": 9,
    "start_time": "2025-05-29T09:03:27.079Z"
   },
   {
    "duration": 9,
    "start_time": "2025-05-29T09:04:59.280Z"
   },
   {
    "duration": 10,
    "start_time": "2025-05-29T09:05:10.762Z"
   },
   {
    "duration": 10,
    "start_time": "2025-05-29T09:05:15.640Z"
   },
   {
    "duration": 9,
    "start_time": "2025-05-29T09:05:16.277Z"
   },
   {
    "duration": 11,
    "start_time": "2025-05-29T09:05:17.311Z"
   },
   {
    "duration": 11,
    "start_time": "2025-05-29T09:05:17.536Z"
   },
   {
    "duration": 10,
    "start_time": "2025-05-29T09:05:17.855Z"
   },
   {
    "duration": 9,
    "start_time": "2025-05-29T09:05:18.128Z"
   },
   {
    "duration": 537,
    "start_time": "2025-05-29T09:05:23.734Z"
   },
   {
    "duration": 17,
    "start_time": "2025-05-29T09:05:24.273Z"
   },
   {
    "duration": 10,
    "start_time": "2025-05-29T09:05:24.291Z"
   },
   {
    "duration": 1360,
    "start_time": "2025-05-29T09:05:24.302Z"
   },
   {
    "duration": 7,
    "start_time": "2025-05-29T09:06:17.174Z"
   },
   {
    "duration": 18,
    "start_time": "2025-05-29T09:09:02.501Z"
   },
   {
    "duration": 3,
    "start_time": "2025-05-29T09:09:58.946Z"
   },
   {
    "duration": 26,
    "start_time": "2025-05-29T09:10:06.738Z"
   },
   {
    "duration": 9,
    "start_time": "2025-05-29T09:10:21.696Z"
   },
   {
    "duration": 16,
    "start_time": "2025-05-29T09:10:26.645Z"
   },
   {
    "duration": 8,
    "start_time": "2025-05-29T09:10:45.425Z"
   },
   {
    "duration": 10,
    "start_time": "2025-05-29T09:10:46.766Z"
   },
   {
    "duration": 17,
    "start_time": "2025-05-29T09:10:56.702Z"
   },
   {
    "duration": 60,
    "start_time": "2025-05-29T09:11:03.510Z"
   },
   {
    "duration": 9,
    "start_time": "2025-05-29T09:11:06.729Z"
   },
   {
    "duration": 18,
    "start_time": "2025-05-29T09:11:13.823Z"
   },
   {
    "duration": 60,
    "start_time": "2025-05-29T09:11:47.709Z"
   },
   {
    "duration": 4,
    "start_time": "2025-05-29T09:11:50.078Z"
   },
   {
    "duration": 5,
    "start_time": "2025-05-29T09:14:31.595Z"
   },
   {
    "duration": 4,
    "start_time": "2025-05-29T09:16:11.835Z"
   },
   {
    "duration": 7,
    "start_time": "2025-05-29T09:17:23.404Z"
   },
   {
    "duration": 21,
    "start_time": "2025-05-29T09:17:55.853Z"
   },
   {
    "duration": 9,
    "start_time": "2025-05-29T09:18:02.445Z"
   },
   {
    "duration": 1254,
    "start_time": "2025-05-29T09:23:58.201Z"
   },
   {
    "duration": 1284,
    "start_time": "2025-05-29T09:24:00.071Z"
   },
   {
    "duration": 28,
    "start_time": "2025-05-29T09:27:38.604Z"
   },
   {
    "duration": 16,
    "start_time": "2025-05-29T09:27:54.303Z"
   },
   {
    "duration": 52,
    "start_time": "2025-05-29T09:29:05.763Z"
   },
   {
    "duration": 54,
    "start_time": "2025-05-29T09:29:47.596Z"
   },
   {
    "duration": 549,
    "start_time": "2025-05-29T09:30:06.877Z"
   },
   {
    "duration": 16,
    "start_time": "2025-05-29T09:30:07.428Z"
   },
   {
    "duration": 59,
    "start_time": "2025-05-29T09:30:07.446Z"
   },
   {
    "duration": 0,
    "start_time": "2025-05-29T09:30:07.507Z"
   },
   {
    "duration": 0,
    "start_time": "2025-05-29T09:30:07.508Z"
   },
   {
    "duration": 0,
    "start_time": "2025-05-29T09:30:07.509Z"
   },
   {
    "duration": 0,
    "start_time": "2025-05-29T09:30:07.510Z"
   },
   {
    "duration": 0,
    "start_time": "2025-05-29T09:30:07.511Z"
   },
   {
    "duration": 490,
    "start_time": "2025-05-29T09:30:15.924Z"
   },
   {
    "duration": 16,
    "start_time": "2025-05-29T09:30:17.581Z"
   },
   {
    "duration": 10,
    "start_time": "2025-05-29T09:30:24.953Z"
   },
   {
    "duration": 4,
    "start_time": "2025-05-29T09:30:27.123Z"
   },
   {
    "duration": 4,
    "start_time": "2025-05-29T09:30:28.991Z"
   },
   {
    "duration": 59,
    "start_time": "2025-05-29T09:30:31.282Z"
   },
   {
    "duration": 89,
    "start_time": "2025-05-29T09:30:49.502Z"
   },
   {
    "duration": 67,
    "start_time": "2025-05-29T09:36:58.421Z"
   },
   {
    "duration": 10,
    "start_time": "2025-05-29T09:37:07.806Z"
   },
   {
    "duration": 6,
    "start_time": "2025-05-29T09:37:33.093Z"
   },
   {
    "duration": 13,
    "start_time": "2025-05-29T09:38:35.154Z"
   },
   {
    "duration": 9,
    "start_time": "2025-05-29T09:38:42.032Z"
   },
   {
    "duration": 6,
    "start_time": "2025-05-29T09:40:27.797Z"
   },
   {
    "duration": 1218,
    "start_time": "2025-05-29T09:40:56.795Z"
   },
   {
    "duration": 8,
    "start_time": "2025-05-29T09:41:07.616Z"
   },
   {
    "duration": 9,
    "start_time": "2025-05-29T09:41:19.427Z"
   },
   {
    "duration": 9,
    "start_time": "2025-05-29T09:42:09.460Z"
   },
   {
    "duration": 8,
    "start_time": "2025-05-29T09:52:50.368Z"
   },
   {
    "duration": 3,
    "start_time": "2025-05-29T09:53:28.633Z"
   },
   {
    "duration": 20,
    "start_time": "2025-05-29T09:55:37.832Z"
   },
   {
    "duration": 9,
    "start_time": "2025-05-29T09:55:55.798Z"
   },
   {
    "duration": 9,
    "start_time": "2025-05-29T09:55:58.734Z"
   },
   {
    "duration": 487,
    "start_time": "2025-05-29T09:56:20.344Z"
   },
   {
    "duration": 18,
    "start_time": "2025-05-29T09:56:20.833Z"
   },
   {
    "duration": 64,
    "start_time": "2025-05-29T09:56:20.853Z"
   },
   {
    "duration": 25,
    "start_time": "2025-05-29T09:56:20.920Z"
   },
   {
    "duration": 90,
    "start_time": "2025-05-29T09:56:20.947Z"
   },
   {
    "duration": 120,
    "start_time": "2025-05-29T09:56:21.039Z"
   },
   {
    "duration": 7,
    "start_time": "2025-05-29T09:56:21.161Z"
   },
   {
    "duration": 100,
    "start_time": "2025-05-29T09:56:21.176Z"
   },
   {
    "duration": 0,
    "start_time": "2025-05-29T09:56:21.278Z"
   },
   {
    "duration": 19,
    "start_time": "2025-05-29T09:57:40.798Z"
   },
   {
    "duration": 12,
    "start_time": "2025-05-29T09:58:36.903Z"
   },
   {
    "duration": 11,
    "start_time": "2025-05-29T09:58:48.292Z"
   },
   {
    "duration": 10,
    "start_time": "2025-05-29T10:17:22.773Z"
   },
   {
    "duration": 11,
    "start_time": "2025-05-29T10:17:23.512Z"
   },
   {
    "duration": 11,
    "start_time": "2025-05-29T10:17:23.728Z"
   },
   {
    "duration": 11,
    "start_time": "2025-05-29T10:17:23.902Z"
   },
   {
    "duration": 11,
    "start_time": "2025-05-29T10:17:24.063Z"
   },
   {
    "duration": 9,
    "start_time": "2025-05-29T10:17:24.224Z"
   },
   {
    "duration": 12,
    "start_time": "2025-05-29T10:17:34.291Z"
   },
   {
    "duration": 12,
    "start_time": "2025-05-29T10:17:34.727Z"
   },
   {
    "duration": 11,
    "start_time": "2025-05-29T10:17:34.946Z"
   },
   {
    "duration": 16,
    "start_time": "2025-05-29T10:17:35.111Z"
   },
   {
    "duration": 15,
    "start_time": "2025-05-29T10:17:35.316Z"
   },
   {
    "duration": 15,
    "start_time": "2025-05-29T10:17:35.428Z"
   },
   {
    "duration": 15,
    "start_time": "2025-05-29T10:17:35.640Z"
   },
   {
    "duration": 15,
    "start_time": "2025-05-29T10:17:36.072Z"
   },
   {
    "duration": 102,
    "start_time": "2025-05-29T10:18:04.518Z"
   },
   {
    "duration": 18,
    "start_time": "2025-05-29T10:18:06.685Z"
   },
   {
    "duration": 8,
    "start_time": "2025-05-29T10:18:08.152Z"
   },
   {
    "duration": 3,
    "start_time": "2025-05-29T10:18:09.153Z"
   },
   {
    "duration": 4,
    "start_time": "2025-05-29T10:18:10.370Z"
   },
   {
    "duration": 5,
    "start_time": "2025-05-29T10:18:44.506Z"
   },
   {
    "duration": 95,
    "start_time": "2025-05-29T10:18:45.085Z"
   },
   {
    "duration": 7,
    "start_time": "2025-05-29T10:18:48.702Z"
   },
   {
    "duration": 23,
    "start_time": "2025-05-29T10:18:50.039Z"
   },
   {
    "duration": 7,
    "start_time": "2025-05-29T10:18:53.124Z"
   },
   {
    "duration": 7,
    "start_time": "2025-05-29T10:18:55.423Z"
   },
   {
    "duration": 7,
    "start_time": "2025-05-29T10:19:30.754Z"
   },
   {
    "duration": 8,
    "start_time": "2025-05-29T10:19:32.357Z"
   },
   {
    "duration": 824,
    "start_time": "2025-05-29T10:19:38.409Z"
   },
   {
    "duration": 18,
    "start_time": "2025-05-29T10:19:39.236Z"
   },
   {
    "duration": 12,
    "start_time": "2025-05-29T10:19:39.255Z"
   },
   {
    "duration": 5,
    "start_time": "2025-05-29T10:19:39.268Z"
   },
   {
    "duration": 8,
    "start_time": "2025-05-29T10:19:39.275Z"
   },
   {
    "duration": 99,
    "start_time": "2025-05-29T10:19:39.284Z"
   },
   {
    "duration": 7,
    "start_time": "2025-05-29T10:19:39.385Z"
   },
   {
    "duration": 22,
    "start_time": "2025-05-29T10:19:39.394Z"
   },
   {
    "duration": 8,
    "start_time": "2025-05-29T10:19:39.418Z"
   },
   {
    "duration": 12,
    "start_time": "2025-05-29T10:20:34.823Z"
   },
   {
    "duration": 7,
    "start_time": "2025-05-29T10:20:37.351Z"
   },
   {
    "duration": 545,
    "start_time": "2025-05-29T10:23:21.853Z"
   },
   {
    "duration": 16,
    "start_time": "2025-05-29T10:23:22.400Z"
   },
   {
    "duration": 15,
    "start_time": "2025-05-29T10:23:22.417Z"
   },
   {
    "duration": 3,
    "start_time": "2025-05-29T10:23:22.434Z"
   },
   {
    "duration": 4,
    "start_time": "2025-05-29T10:23:22.439Z"
   },
   {
    "duration": 104,
    "start_time": "2025-05-29T10:23:22.445Z"
   },
   {
    "duration": 15,
    "start_time": "2025-05-29T10:23:22.551Z"
   },
   {
    "duration": 16,
    "start_time": "2025-05-29T10:23:22.567Z"
   },
   {
    "duration": 10,
    "start_time": "2025-05-29T10:23:22.585Z"
   },
   {
    "duration": 8,
    "start_time": "2025-05-29T10:23:27.106Z"
   },
   {
    "duration": 79,
    "start_time": "2025-05-29T10:24:57.471Z"
   },
   {
    "duration": 68,
    "start_time": "2025-05-29T10:25:02.578Z"
   },
   {
    "duration": 8,
    "start_time": "2025-05-29T10:25:07.845Z"
   },
   {
    "duration": 16,
    "start_time": "2025-05-29T10:26:04.090Z"
   },
   {
    "duration": 665,
    "start_time": "2025-05-29T10:26:27.997Z"
   },
   {
    "duration": 21,
    "start_time": "2025-05-29T10:26:28.664Z"
   },
   {
    "duration": 25,
    "start_time": "2025-05-29T10:26:28.686Z"
   },
   {
    "duration": 4,
    "start_time": "2025-05-29T10:26:28.714Z"
   },
   {
    "duration": 5,
    "start_time": "2025-05-29T10:26:28.720Z"
   },
   {
    "duration": 108,
    "start_time": "2025-05-29T10:26:28.727Z"
   },
   {
    "duration": 83,
    "start_time": "2025-05-29T10:26:28.836Z"
   },
   {
    "duration": 0,
    "start_time": "2025-05-29T10:26:28.921Z"
   },
   {
    "duration": 0,
    "start_time": "2025-05-29T10:26:28.922Z"
   },
   {
    "duration": 17,
    "start_time": "2025-05-29T10:26:59.064Z"
   },
   {
    "duration": 8,
    "start_time": "2025-05-29T10:27:02.399Z"
   },
   {
    "duration": 5,
    "start_time": "2025-05-29T10:27:15.542Z"
   },
   {
    "duration": 8,
    "start_time": "2025-05-29T10:34:47.739Z"
   },
   {
    "duration": 8,
    "start_time": "2025-05-29T10:34:48.939Z"
   },
   {
    "duration": 9,
    "start_time": "2025-05-29T10:34:50.943Z"
   },
   {
    "duration": 6,
    "start_time": "2025-05-29T10:35:00.790Z"
   },
   {
    "duration": 6,
    "start_time": "2025-05-29T10:35:02.157Z"
   },
   {
    "duration": 5,
    "start_time": "2025-05-29T10:35:03.017Z"
   },
   {
    "duration": 6,
    "start_time": "2025-05-29T10:35:03.276Z"
   },
   {
    "duration": 10,
    "start_time": "2025-05-29T10:35:44.482Z"
   },
   {
    "duration": 5,
    "start_time": "2025-05-29T10:35:46.792Z"
   },
   {
    "duration": 713,
    "start_time": "2025-05-29T10:36:40.961Z"
   },
   {
    "duration": 18,
    "start_time": "2025-05-29T10:36:41.676Z"
   },
   {
    "duration": 12,
    "start_time": "2025-05-29T10:36:41.696Z"
   },
   {
    "duration": 6,
    "start_time": "2025-05-29T10:36:41.710Z"
   },
   {
    "duration": 12,
    "start_time": "2025-05-29T10:36:41.717Z"
   },
   {
    "duration": 128,
    "start_time": "2025-05-29T10:36:41.732Z"
   },
   {
    "duration": 32,
    "start_time": "2025-05-29T10:36:41.862Z"
   },
   {
    "duration": 40,
    "start_time": "2025-05-29T10:36:41.896Z"
   },
   {
    "duration": 8,
    "start_time": "2025-05-29T10:36:41.938Z"
   },
   {
    "duration": 7,
    "start_time": "2025-05-29T10:36:41.949Z"
   },
   {
    "duration": 8,
    "start_time": "2025-05-29T10:37:03.567Z"
   },
   {
    "duration": 542,
    "start_time": "2025-05-29T10:37:10.658Z"
   },
   {
    "duration": 22,
    "start_time": "2025-05-29T10:37:11.202Z"
   },
   {
    "duration": 12,
    "start_time": "2025-05-29T10:37:11.226Z"
   },
   {
    "duration": 36,
    "start_time": "2025-05-29T10:37:11.241Z"
   },
   {
    "duration": 21,
    "start_time": "2025-05-29T10:37:11.279Z"
   },
   {
    "duration": 93,
    "start_time": "2025-05-29T10:37:11.302Z"
   },
   {
    "duration": 16,
    "start_time": "2025-05-29T10:37:11.397Z"
   },
   {
    "duration": 192,
    "start_time": "2025-05-29T10:37:11.415Z"
   },
   {
    "duration": 23,
    "start_time": "2025-05-29T10:37:11.609Z"
   },
   {
    "duration": 8,
    "start_time": "2025-05-29T10:37:11.635Z"
   },
   {
    "duration": 5,
    "start_time": "2025-05-29T10:37:22.650Z"
   },
   {
    "duration": 8,
    "start_time": "2025-05-29T10:38:55.732Z"
   },
   {
    "duration": 9,
    "start_time": "2025-05-29T10:39:49.251Z"
   },
   {
    "duration": 8,
    "start_time": "2025-05-29T10:39:55.296Z"
   },
   {
    "duration": 8,
    "start_time": "2025-05-29T10:40:06.447Z"
   },
   {
    "duration": 65,
    "start_time": "2025-05-29T10:40:56.785Z"
   },
   {
    "duration": 7,
    "start_time": "2025-05-29T10:41:23.939Z"
   },
   {
    "duration": 8,
    "start_time": "2025-05-29T10:41:25.449Z"
   },
   {
    "duration": 10,
    "start_time": "2025-05-29T10:41:25.904Z"
   },
   {
    "duration": 10,
    "start_time": "2025-05-29T10:41:26.309Z"
   },
   {
    "duration": 17,
    "start_time": "2025-05-29T10:41:46.359Z"
   },
   {
    "duration": 31,
    "start_time": "2025-05-29T10:42:23.518Z"
   },
   {
    "duration": 15,
    "start_time": "2025-05-29T10:42:42.708Z"
   },
   {
    "duration": 32,
    "start_time": "2025-05-29T10:42:56.603Z"
   },
   {
    "duration": 25,
    "start_time": "2025-05-29T10:43:19.157Z"
   },
   {
    "duration": 24,
    "start_time": "2025-05-29T10:43:30.041Z"
   },
   {
    "duration": 65,
    "start_time": "2025-05-29T10:43:40.711Z"
   },
   {
    "duration": 23,
    "start_time": "2025-05-29T10:43:46.988Z"
   },
   {
    "duration": 68,
    "start_time": "2025-05-29T16:59:45.526Z"
   },
   {
    "duration": 538,
    "start_time": "2025-05-29T16:59:50.200Z"
   },
   {
    "duration": 18,
    "start_time": "2025-05-29T16:59:50.740Z"
   },
   {
    "duration": 14,
    "start_time": "2025-05-29T16:59:50.760Z"
   },
   {
    "duration": 4,
    "start_time": "2025-05-29T16:59:50.776Z"
   },
   {
    "duration": 18,
    "start_time": "2025-05-29T16:59:50.781Z"
   },
   {
    "duration": 100,
    "start_time": "2025-05-29T16:59:50.801Z"
   },
   {
    "duration": 34,
    "start_time": "2025-05-29T16:59:50.903Z"
   },
   {
    "duration": 27,
    "start_time": "2025-05-29T16:59:50.940Z"
   },
   {
    "duration": 8,
    "start_time": "2025-05-29T16:59:50.968Z"
   },
   {
    "duration": 5,
    "start_time": "2025-05-29T16:59:50.979Z"
   },
   {
    "duration": 7,
    "start_time": "2025-05-29T17:05:07.169Z"
   },
   {
    "duration": 496,
    "start_time": "2025-05-29T17:05:17.583Z"
   },
   {
    "duration": 17,
    "start_time": "2025-05-29T17:05:18.081Z"
   },
   {
    "duration": 42,
    "start_time": "2025-05-29T17:05:18.099Z"
   },
   {
    "duration": 46,
    "start_time": "2025-05-29T17:05:18.143Z"
   },
   {
    "duration": 6,
    "start_time": "2025-05-29T17:05:18.194Z"
   },
   {
    "duration": 94,
    "start_time": "2025-05-29T17:05:18.202Z"
   },
   {
    "duration": 24,
    "start_time": "2025-05-29T17:05:18.298Z"
   },
   {
    "duration": 31,
    "start_time": "2025-05-29T17:05:18.323Z"
   },
   {
    "duration": 8,
    "start_time": "2025-05-29T17:05:18.356Z"
   },
   {
    "duration": 7,
    "start_time": "2025-05-29T17:05:18.365Z"
   },
   {
    "duration": 17,
    "start_time": "2025-05-29T17:06:02.627Z"
   },
   {
    "duration": 17,
    "start_time": "2025-05-29T17:06:46.035Z"
   },
   {
    "duration": 64,
    "start_time": "2025-05-29T17:07:21.426Z"
   },
   {
    "duration": 505,
    "start_time": "2025-05-29T17:07:25.495Z"
   },
   {
    "duration": 18,
    "start_time": "2025-05-29T17:07:26.222Z"
   },
   {
    "duration": 11,
    "start_time": "2025-05-29T17:07:27.538Z"
   },
   {
    "duration": 4,
    "start_time": "2025-05-29T17:07:28.839Z"
   },
   {
    "duration": 4,
    "start_time": "2025-05-29T17:07:29.826Z"
   },
   {
    "duration": 96,
    "start_time": "2025-05-29T17:07:31.124Z"
   },
   {
    "duration": 20,
    "start_time": "2025-05-29T17:07:33.441Z"
   },
   {
    "duration": 20,
    "start_time": "2025-05-29T17:07:34.927Z"
   },
   {
    "duration": 23,
    "start_time": "2025-05-29T17:07:48.328Z"
   },
   {
    "duration": 19,
    "start_time": "2025-05-29T17:07:56.576Z"
   },
   {
    "duration": 28,
    "start_time": "2025-05-29T17:11:04.296Z"
   },
   {
    "duration": 26,
    "start_time": "2025-05-29T17:11:08.035Z"
   },
   {
    "duration": 38,
    "start_time": "2025-05-29T17:15:19.007Z"
   },
   {
    "duration": 17,
    "start_time": "2025-05-29T17:16:03.901Z"
   },
   {
    "duration": 23,
    "start_time": "2025-05-29T17:16:26.560Z"
   },
   {
    "duration": 476,
    "start_time": "2025-05-29T17:17:03.385Z"
   },
   {
    "duration": 16,
    "start_time": "2025-05-29T17:17:03.863Z"
   },
   {
    "duration": 27,
    "start_time": "2025-05-29T17:17:03.881Z"
   },
   {
    "duration": 21,
    "start_time": "2025-05-29T17:17:03.910Z"
   },
   {
    "duration": 21,
    "start_time": "2025-05-29T17:17:03.933Z"
   },
   {
    "duration": 122,
    "start_time": "2025-05-29T17:17:03.956Z"
   },
   {
    "duration": 24,
    "start_time": "2025-05-29T17:17:04.079Z"
   },
   {
    "duration": 40,
    "start_time": "2025-05-29T17:17:04.105Z"
   },
   {
    "duration": 61,
    "start_time": "2025-05-29T17:17:04.147Z"
   },
   {
    "duration": 19,
    "start_time": "2025-05-29T17:17:04.209Z"
   },
   {
    "duration": 48,
    "start_time": "2025-05-29T17:17:04.230Z"
   },
   {
    "duration": 12,
    "start_time": "2025-05-29T17:17:57.603Z"
   },
   {
    "duration": 4,
    "start_time": "2025-05-29T17:18:11.683Z"
   },
   {
    "duration": 16,
    "start_time": "2025-05-29T17:18:17.626Z"
   },
   {
    "duration": 14,
    "start_time": "2025-05-29T17:19:02.074Z"
   },
   {
    "duration": 3,
    "start_time": "2025-05-29T17:19:11.294Z"
   },
   {
    "duration": 15,
    "start_time": "2025-05-29T17:19:15.070Z"
   },
   {
    "duration": 16,
    "start_time": "2025-05-29T17:19:26.132Z"
   },
   {
    "duration": 17,
    "start_time": "2025-05-29T17:19:48.012Z"
   },
   {
    "duration": 524,
    "start_time": "2025-05-29T17:20:11.241Z"
   },
   {
    "duration": 18,
    "start_time": "2025-05-29T17:20:15.385Z"
   },
   {
    "duration": 10,
    "start_time": "2025-05-29T17:20:19.705Z"
   },
   {
    "duration": 3,
    "start_time": "2025-05-29T17:20:20.719Z"
   },
   {
    "duration": 4,
    "start_time": "2025-05-29T17:20:21.619Z"
   },
   {
    "duration": 84,
    "start_time": "2025-05-29T17:20:23.169Z"
   },
   {
    "duration": 23,
    "start_time": "2025-05-29T17:20:25.836Z"
   },
   {
    "duration": 18,
    "start_time": "2025-05-29T17:20:31.055Z"
   },
   {
    "duration": 12,
    "start_time": "2025-05-29T17:20:34.987Z"
   },
   {
    "duration": 10,
    "start_time": "2025-05-29T17:20:40.267Z"
   },
   {
    "duration": 520,
    "start_time": "2025-05-29T17:20:49.049Z"
   },
   {
    "duration": 84,
    "start_time": "2025-05-29T17:20:49.860Z"
   },
   {
    "duration": 201,
    "start_time": "2025-05-29T17:20:52.723Z"
   },
   {
    "duration": 72,
    "start_time": "2025-05-29T17:21:03.117Z"
   },
   {
    "duration": 17,
    "start_time": "2025-05-29T17:21:06.359Z"
   },
   {
    "duration": 1209,
    "start_time": "2025-05-29T17:21:11.206Z"
   },
   {
    "duration": 21,
    "start_time": "2025-05-29T17:21:12.938Z"
   },
   {
    "duration": 10,
    "start_time": "2025-05-29T17:21:16.655Z"
   },
   {
    "duration": 16,
    "start_time": "2025-05-29T17:21:21.022Z"
   },
   {
    "duration": 10,
    "start_time": "2025-05-29T17:21:22.073Z"
   },
   {
    "duration": 3,
    "start_time": "2025-05-29T17:21:22.488Z"
   },
   {
    "duration": 4,
    "start_time": "2025-05-29T17:21:22.890Z"
   },
   {
    "duration": 86,
    "start_time": "2025-05-29T17:21:23.374Z"
   },
   {
    "duration": 27,
    "start_time": "2025-05-29T17:21:24.738Z"
   },
   {
    "duration": 18,
    "start_time": "2025-05-29T17:21:25.788Z"
   },
   {
    "duration": 14,
    "start_time": "2025-05-29T17:21:29.951Z"
   },
   {
    "duration": 30,
    "start_time": "2025-05-29T17:21:34.163Z"
   },
   {
    "duration": 60,
    "start_time": "2025-05-29T17:23:08.018Z"
   },
   {
    "duration": 4,
    "start_time": "2025-05-29T17:23:08.492Z"
   },
   {
    "duration": 5,
    "start_time": "2025-05-29T17:23:15.438Z"
   },
   {
    "duration": 17,
    "start_time": "2025-05-29T17:23:18.008Z"
   },
   {
    "duration": 6,
    "start_time": "2025-05-29T17:24:11.672Z"
   },
   {
    "duration": 10,
    "start_time": "2025-05-29T17:24:38.768Z"
   },
   {
    "duration": 19,
    "start_time": "2025-05-29T17:24:42.234Z"
   },
   {
    "duration": 15,
    "start_time": "2025-05-29T17:25:31.991Z"
   },
   {
    "duration": 20,
    "start_time": "2025-05-29T17:25:34.133Z"
   },
   {
    "duration": 56,
    "start_time": "2025-05-29T17:33:06.158Z"
   },
   {
    "duration": 49,
    "start_time": "2025-05-29T17:33:57.057Z"
   },
   {
    "duration": 52,
    "start_time": "2025-05-29T17:33:57.526Z"
   },
   {
    "duration": 55,
    "start_time": "2025-05-29T17:34:13.081Z"
   },
   {
    "duration": 58,
    "start_time": "2025-05-29T17:34:13.686Z"
   },
   {
    "duration": 56,
    "start_time": "2025-05-29T17:35:36.714Z"
   },
   {
    "duration": 87,
    "start_time": "2025-05-29T17:35:37.494Z"
   },
   {
    "duration": 6,
    "start_time": "2025-05-29T17:35:54.029Z"
   },
   {
    "duration": 9,
    "start_time": "2025-05-29T17:36:11.064Z"
   },
   {
    "duration": 6,
    "start_time": "2025-05-29T17:36:36.902Z"
   },
   {
    "duration": 14,
    "start_time": "2025-05-29T17:37:50.508Z"
   },
   {
    "duration": 56,
    "start_time": "2025-05-29T17:38:50.949Z"
   },
   {
    "duration": 7,
    "start_time": "2025-05-29T17:38:54.570Z"
   },
   {
    "duration": 10,
    "start_time": "2025-05-29T17:38:56.531Z"
   },
   {
    "duration": 8,
    "start_time": "2025-05-29T17:39:07.452Z"
   },
   {
    "duration": 58,
    "start_time": "2025-05-29T17:39:37.194Z"
   },
   {
    "duration": 8,
    "start_time": "2025-05-29T17:39:40.982Z"
   },
   {
    "duration": 7,
    "start_time": "2025-05-29T17:39:42.430Z"
   },
   {
    "duration": 17,
    "start_time": "2025-05-29T17:46:09.167Z"
   },
   {
    "duration": 448,
    "start_time": "2025-05-29T17:46:23.381Z"
   },
   {
    "duration": 19,
    "start_time": "2025-05-29T17:46:25.395Z"
   },
   {
    "duration": 11,
    "start_time": "2025-05-29T17:46:28.124Z"
   },
   {
    "duration": 3,
    "start_time": "2025-05-29T17:46:30.546Z"
   },
   {
    "duration": 4,
    "start_time": "2025-05-29T17:46:32.058Z"
   },
   {
    "duration": 87,
    "start_time": "2025-05-29T17:46:33.783Z"
   },
   {
    "duration": 25,
    "start_time": "2025-05-29T17:46:37.341Z"
   },
   {
    "duration": 19,
    "start_time": "2025-05-29T17:46:44.536Z"
   },
   {
    "duration": 20,
    "start_time": "2025-05-29T17:47:25.251Z"
   },
   {
    "duration": 18,
    "start_time": "2025-05-29T17:47:26.751Z"
   },
   {
    "duration": 5,
    "start_time": "2025-05-29T17:47:31.335Z"
   },
   {
    "duration": 21,
    "start_time": "2025-05-29T17:47:32.584Z"
   },
   {
    "duration": 6,
    "start_time": "2025-05-29T17:47:39.317Z"
   },
   {
    "duration": 25,
    "start_time": "2025-05-29T17:47:42.215Z"
   },
   {
    "duration": 10,
    "start_time": "2025-05-29T17:48:00.519Z"
   },
   {
    "duration": 23,
    "start_time": "2025-05-29T17:50:28.845Z"
   },
   {
    "duration": 67,
    "start_time": "2025-05-29T17:51:46.418Z"
   },
   {
    "duration": 129,
    "start_time": "2025-05-29T17:52:13.146Z"
   },
   {
    "duration": 1171,
    "start_time": "2025-05-29T17:52:18.139Z"
   },
   {
    "duration": 1227,
    "start_time": "2025-05-29T17:52:37.636Z"
   },
   {
    "duration": 1135,
    "start_time": "2025-05-29T17:53:13.244Z"
   },
   {
    "duration": 1189,
    "start_time": "2025-05-29T17:53:26.723Z"
   },
   {
    "duration": 447,
    "start_time": "2025-05-29T17:53:36.695Z"
   },
   {
    "duration": 16,
    "start_time": "2025-05-29T17:53:37.144Z"
   },
   {
    "duration": 16,
    "start_time": "2025-05-29T17:53:37.162Z"
   },
   {
    "duration": 11,
    "start_time": "2025-05-29T17:53:37.180Z"
   },
   {
    "duration": 24,
    "start_time": "2025-05-29T17:53:37.192Z"
   },
   {
    "duration": 97,
    "start_time": "2025-05-29T17:53:37.217Z"
   },
   {
    "duration": 43,
    "start_time": "2025-05-29T17:53:37.316Z"
   },
   {
    "duration": 20,
    "start_time": "2025-05-29T17:53:37.361Z"
   },
   {
    "duration": 46,
    "start_time": "2025-05-29T17:53:37.382Z"
   },
   {
    "duration": 5,
    "start_time": "2025-05-29T17:53:37.430Z"
   },
   {
    "duration": 21,
    "start_time": "2025-05-29T17:53:37.436Z"
   },
   {
    "duration": 31,
    "start_time": "2025-05-29T17:53:37.459Z"
   },
   {
    "duration": 12,
    "start_time": "2025-05-29T17:54:34.944Z"
   },
   {
    "duration": 10,
    "start_time": "2025-05-29T17:55:49.099Z"
   },
   {
    "duration": 11,
    "start_time": "2025-05-29T17:55:50.161Z"
   },
   {
    "duration": 10,
    "start_time": "2025-05-29T17:56:40.549Z"
   },
   {
    "duration": 66,
    "start_time": "2025-05-29T17:57:37.049Z"
   },
   {
    "duration": 4,
    "start_time": "2025-05-29T17:57:47.227Z"
   },
   {
    "duration": 4,
    "start_time": "2025-05-29T17:58:17.022Z"
   },
   {
    "duration": 9,
    "start_time": "2025-05-29T18:00:14.130Z"
   },
   {
    "duration": 9,
    "start_time": "2025-05-29T18:00:23.760Z"
   },
   {
    "duration": 9,
    "start_time": "2025-05-29T18:00:25.327Z"
   },
   {
    "duration": 67,
    "start_time": "2025-05-29T18:01:23.270Z"
   },
   {
    "duration": 20,
    "start_time": "2025-05-29T18:03:46.054Z"
   },
   {
    "duration": 16,
    "start_time": "2025-05-29T18:03:48.340Z"
   },
   {
    "duration": 17,
    "start_time": "2025-05-29T18:04:02.232Z"
   },
   {
    "duration": 16,
    "start_time": "2025-05-29T18:04:11.905Z"
   },
   {
    "duration": 32,
    "start_time": "2025-05-29T18:04:56.424Z"
   },
   {
    "duration": 33,
    "start_time": "2025-05-29T18:06:00.933Z"
   },
   {
    "duration": 24,
    "start_time": "2025-05-29T18:07:25.649Z"
   },
   {
    "duration": 25,
    "start_time": "2025-05-29T18:07:35.326Z"
   },
   {
    "duration": 24,
    "start_time": "2025-05-29T18:07:48.389Z"
   },
   {
    "duration": 22,
    "start_time": "2025-05-29T18:08:00.747Z"
   },
   {
    "duration": 16,
    "start_time": "2025-05-29T18:08:25.317Z"
   },
   {
    "duration": 17,
    "start_time": "2025-05-29T18:08:56.201Z"
   },
   {
    "duration": 17,
    "start_time": "2025-05-29T18:09:44.766Z"
   },
   {
    "duration": 27,
    "start_time": "2025-05-29T18:10:11.960Z"
   },
   {
    "duration": 25,
    "start_time": "2025-05-29T18:10:41.317Z"
   },
   {
    "duration": 7,
    "start_time": "2025-05-29T18:11:23.586Z"
   },
   {
    "duration": 7,
    "start_time": "2025-05-29T18:11:28.556Z"
   },
   {
    "duration": 24,
    "start_time": "2025-05-29T18:12:20.652Z"
   },
   {
    "duration": 26,
    "start_time": "2025-05-29T18:12:49.285Z"
   },
   {
    "duration": 27,
    "start_time": "2025-05-29T18:13:05.473Z"
   },
   {
    "duration": 4,
    "start_time": "2025-05-29T18:13:15.752Z"
   },
   {
    "duration": 24,
    "start_time": "2025-05-29T18:13:18.077Z"
   },
   {
    "duration": 10,
    "start_time": "2025-05-29T18:13:29.947Z"
   },
   {
    "duration": 17,
    "start_time": "2025-05-29T18:13:36.851Z"
   },
   {
    "duration": 34,
    "start_time": "2025-05-29T18:13:53.550Z"
   },
   {
    "duration": 18,
    "start_time": "2025-05-29T18:14:22.069Z"
   },
   {
    "duration": 16,
    "start_time": "2025-05-29T18:14:37.640Z"
   },
   {
    "duration": 4,
    "start_time": "2025-05-29T18:15:44.360Z"
   },
   {
    "duration": 3,
    "start_time": "2025-05-29T18:16:05.249Z"
   },
   {
    "duration": 4,
    "start_time": "2025-05-29T18:16:07.883Z"
   },
   {
    "duration": 4,
    "start_time": "2025-05-29T18:17:40.221Z"
   },
   {
    "duration": 4,
    "start_time": "2025-05-29T18:17:51.493Z"
   },
   {
    "duration": 4,
    "start_time": "2025-05-29T18:18:22.431Z"
   },
   {
    "duration": 5,
    "start_time": "2025-05-29T18:18:42.763Z"
   },
   {
    "duration": 3,
    "start_time": "2025-05-29T18:19:04.850Z"
   },
   {
    "duration": 4,
    "start_time": "2025-05-29T18:19:14.326Z"
   },
   {
    "duration": 9,
    "start_time": "2025-05-29T18:20:29.385Z"
   },
   {
    "duration": 9,
    "start_time": "2025-05-29T18:21:49.131Z"
   },
   {
    "duration": 8,
    "start_time": "2025-05-29T18:21:54.454Z"
   },
   {
    "duration": 4,
    "start_time": "2025-05-29T18:22:10.747Z"
   },
   {
    "duration": 9,
    "start_time": "2025-05-29T18:22:20.447Z"
   },
   {
    "duration": 6,
    "start_time": "2025-05-29T18:22:39.329Z"
   },
   {
    "duration": 7,
    "start_time": "2025-05-29T18:25:15.249Z"
   },
   {
    "duration": 878,
    "start_time": "2025-05-29T18:26:22.495Z"
   },
   {
    "duration": 864,
    "start_time": "2025-05-29T18:27:11.921Z"
   },
   {
    "duration": 531,
    "start_time": "2025-05-29T18:27:22.203Z"
   },
   {
    "duration": 15,
    "start_time": "2025-05-29T18:27:22.736Z"
   },
   {
    "duration": 13,
    "start_time": "2025-05-29T18:27:22.753Z"
   },
   {
    "duration": 14,
    "start_time": "2025-05-29T18:27:22.767Z"
   },
   {
    "duration": 6,
    "start_time": "2025-05-29T18:27:22.782Z"
   },
   {
    "duration": 93,
    "start_time": "2025-05-29T18:27:22.789Z"
   },
   {
    "duration": 26,
    "start_time": "2025-05-29T18:27:22.884Z"
   },
   {
    "duration": 30,
    "start_time": "2025-05-29T18:27:22.911Z"
   },
   {
    "duration": 18,
    "start_time": "2025-05-29T18:27:22.943Z"
   },
   {
    "duration": 5,
    "start_time": "2025-05-29T18:27:22.963Z"
   },
   {
    "duration": 27,
    "start_time": "2025-05-29T18:27:22.969Z"
   },
   {
    "duration": 29,
    "start_time": "2025-05-29T18:27:22.997Z"
   },
   {
    "duration": 10,
    "start_time": "2025-05-29T18:27:23.028Z"
   },
   {
    "duration": 25,
    "start_time": "2025-05-29T18:27:23.039Z"
   },
   {
    "duration": 13,
    "start_time": "2025-05-29T18:27:23.066Z"
   },
   {
    "duration": 10,
    "start_time": "2025-05-29T18:27:23.080Z"
   },
   {
    "duration": 17,
    "start_time": "2025-05-29T18:27:23.091Z"
   },
   {
    "duration": 47,
    "start_time": "2025-05-29T18:27:23.110Z"
   },
   {
    "duration": 7,
    "start_time": "2025-05-29T18:41:06.961Z"
   },
   {
    "duration": 5,
    "start_time": "2025-05-29T18:41:09.494Z"
   },
   {
    "duration": 1198,
    "start_time": "2025-05-29T18:42:06.094Z"
   },
   {
    "duration": 6,
    "start_time": "2025-05-29T18:42:23.892Z"
   },
   {
    "duration": 10,
    "start_time": "2025-05-29T18:44:38.705Z"
   },
   {
    "duration": 4,
    "start_time": "2025-05-29T18:45:03.529Z"
   },
   {
    "duration": 8,
    "start_time": "2025-05-29T18:45:20.641Z"
   },
   {
    "duration": 8,
    "start_time": "2025-05-29T18:46:07.081Z"
   },
   {
    "duration": 87,
    "start_time": "2025-05-29T18:51:20.100Z"
   },
   {
    "duration": 54,
    "start_time": "2025-05-29T18:51:27.226Z"
   },
   {
    "duration": 9,
    "start_time": "2025-05-29T18:51:54.880Z"
   },
   {
    "duration": 10,
    "start_time": "2025-05-29T18:59:14.943Z"
   },
   {
    "duration": 73,
    "start_time": "2025-05-29T18:59:25.959Z"
   },
   {
    "duration": 28,
    "start_time": "2025-05-29T18:59:35.979Z"
   },
   {
    "duration": 30,
    "start_time": "2025-05-29T18:59:47.347Z"
   },
   {
    "duration": 27,
    "start_time": "2025-05-29T18:59:49.613Z"
   },
   {
    "duration": 27,
    "start_time": "2025-05-29T19:00:16.433Z"
   },
   {
    "duration": 23,
    "start_time": "2025-05-29T19:00:17.048Z"
   },
   {
    "duration": 28,
    "start_time": "2025-05-29T19:00:17.303Z"
   },
   {
    "duration": 26,
    "start_time": "2025-05-29T19:00:17.475Z"
   },
   {
    "duration": 24,
    "start_time": "2025-05-29T19:00:17.624Z"
   },
   {
    "duration": 24,
    "start_time": "2025-05-29T19:00:17.770Z"
   },
   {
    "duration": 26,
    "start_time": "2025-05-29T19:00:29.066Z"
   },
   {
    "duration": 26,
    "start_time": "2025-05-29T19:00:32.034Z"
   },
   {
    "duration": 10,
    "start_time": "2025-05-29T19:05:43.727Z"
   },
   {
    "duration": 456,
    "start_time": "2025-05-29T19:05:57.197Z"
   },
   {
    "duration": 17,
    "start_time": "2025-05-29T19:05:57.655Z"
   },
   {
    "duration": 11,
    "start_time": "2025-05-29T19:05:57.673Z"
   },
   {
    "duration": 20,
    "start_time": "2025-05-29T19:05:57.685Z"
   },
   {
    "duration": 7,
    "start_time": "2025-05-29T19:05:57.707Z"
   },
   {
    "duration": 90,
    "start_time": "2025-05-29T19:05:57.715Z"
   },
   {
    "duration": 30,
    "start_time": "2025-05-29T19:05:57.807Z"
   },
   {
    "duration": 16,
    "start_time": "2025-05-29T19:05:57.839Z"
   },
   {
    "duration": 20,
    "start_time": "2025-05-29T19:05:57.856Z"
   },
   {
    "duration": 5,
    "start_time": "2025-05-29T19:05:57.878Z"
   },
   {
    "duration": 12,
    "start_time": "2025-05-29T19:05:57.884Z"
   },
   {
    "duration": 42,
    "start_time": "2025-05-29T19:05:57.898Z"
   },
   {
    "duration": 10,
    "start_time": "2025-05-29T19:05:57.941Z"
   },
   {
    "duration": 14,
    "start_time": "2025-05-29T19:05:57.953Z"
   },
   {
    "duration": 14,
    "start_time": "2025-05-29T19:05:57.968Z"
   },
   {
    "duration": 4,
    "start_time": "2025-05-29T19:05:57.983Z"
   },
   {
    "duration": 9,
    "start_time": "2025-05-29T19:05:57.989Z"
   },
   {
    "duration": 38,
    "start_time": "2025-05-29T19:05:57.999Z"
   },
   {
    "duration": 7,
    "start_time": "2025-05-29T19:05:58.039Z"
   },
   {
    "duration": 103,
    "start_time": "2025-05-29T19:05:58.047Z"
   },
   {
    "duration": 13,
    "start_time": "2025-05-29T19:08:17.200Z"
   },
   {
    "duration": 16,
    "start_time": "2025-05-29T19:09:00.846Z"
   },
   {
    "duration": 1250,
    "start_time": "2025-05-29T19:12:46.448Z"
   },
   {
    "duration": 12,
    "start_time": "2025-05-29T19:17:14.976Z"
   },
   {
    "duration": 10,
    "start_time": "2025-05-29T19:17:15.883Z"
   },
   {
    "duration": 4,
    "start_time": "2025-05-29T19:17:25.755Z"
   },
   {
    "duration": 4,
    "start_time": "2025-05-29T19:17:27.350Z"
   },
   {
    "duration": 5,
    "start_time": "2025-05-29T19:17:58.409Z"
   },
   {
    "duration": 5,
    "start_time": "2025-05-29T19:18:53.200Z"
   },
   {
    "duration": 4,
    "start_time": "2025-05-29T19:19:04.296Z"
   },
   {
    "duration": 4,
    "start_time": "2025-05-29T19:19:13.549Z"
   },
   {
    "duration": 5,
    "start_time": "2025-05-29T19:20:14.429Z"
   },
   {
    "duration": 6,
    "start_time": "2025-05-29T19:20:15.194Z"
   },
   {
    "duration": 4,
    "start_time": "2025-05-29T19:20:19.668Z"
   },
   {
    "duration": 7,
    "start_time": "2025-05-29T19:22:17.062Z"
   },
   {
    "duration": 8,
    "start_time": "2025-05-29T19:22:19.060Z"
   },
   {
    "duration": 8,
    "start_time": "2025-05-29T19:26:04.744Z"
   },
   {
    "duration": 505,
    "start_time": "2025-05-29T19:27:09.929Z"
   },
   {
    "duration": 17,
    "start_time": "2025-05-29T19:27:10.436Z"
   },
   {
    "duration": 10,
    "start_time": "2025-05-29T19:27:10.454Z"
   },
   {
    "duration": 3,
    "start_time": "2025-05-29T19:27:10.466Z"
   },
   {
    "duration": 18,
    "start_time": "2025-05-29T19:27:10.471Z"
   },
   {
    "duration": 103,
    "start_time": "2025-05-29T19:27:10.491Z"
   },
   {
    "duration": 26,
    "start_time": "2025-05-29T19:27:10.596Z"
   },
   {
    "duration": 41,
    "start_time": "2025-05-29T19:27:10.624Z"
   },
   {
    "duration": 19,
    "start_time": "2025-05-29T19:27:10.667Z"
   },
   {
    "duration": 5,
    "start_time": "2025-05-29T19:27:10.688Z"
   },
   {
    "duration": 22,
    "start_time": "2025-05-29T19:27:10.695Z"
   },
   {
    "duration": 27,
    "start_time": "2025-05-29T19:27:10.719Z"
   },
   {
    "duration": 12,
    "start_time": "2025-05-29T19:27:10.747Z"
   },
   {
    "duration": 33,
    "start_time": "2025-05-29T19:27:10.762Z"
   },
   {
    "duration": 30,
    "start_time": "2025-05-29T19:27:10.797Z"
   },
   {
    "duration": 3,
    "start_time": "2025-05-29T19:27:10.829Z"
   },
   {
    "duration": 17,
    "start_time": "2025-05-29T19:27:10.833Z"
   },
   {
    "duration": 10,
    "start_time": "2025-05-29T19:27:10.851Z"
   },
   {
    "duration": 24,
    "start_time": "2025-05-29T19:27:10.863Z"
   },
   {
    "duration": 16,
    "start_time": "2025-05-29T19:27:10.888Z"
   },
   {
    "duration": 17,
    "start_time": "2025-05-29T19:27:10.905Z"
   },
   {
    "duration": 15,
    "start_time": "2025-05-29T19:27:10.923Z"
   },
   {
    "duration": 27,
    "start_time": "2025-05-29T19:27:24.712Z"
   },
   {
    "duration": 10,
    "start_time": "2025-05-29T19:27:37.713Z"
   },
   {
    "duration": 12,
    "start_time": "2025-05-29T19:27:54.954Z"
   },
   {
    "duration": 65,
    "start_time": "2025-05-29T19:28:08.956Z"
   },
   {
    "duration": 11,
    "start_time": "2025-05-29T19:28:20.689Z"
   },
   {
    "duration": 11,
    "start_time": "2025-05-29T19:28:30.452Z"
   },
   {
    "duration": 14,
    "start_time": "2025-05-29T19:29:12.747Z"
   },
   {
    "duration": 11,
    "start_time": "2025-05-29T19:29:22.466Z"
   },
   {
    "duration": 14,
    "start_time": "2025-05-29T19:31:43.061Z"
   },
   {
    "duration": 15,
    "start_time": "2025-05-29T19:31:59.978Z"
   },
   {
    "duration": 6,
    "start_time": "2025-05-29T19:32:12.427Z"
   },
   {
    "duration": 9,
    "start_time": "2025-05-29T19:32:22.062Z"
   },
   {
    "duration": 11,
    "start_time": "2025-05-29T19:32:41.954Z"
   },
   {
    "duration": 1296,
    "start_time": "2025-05-29T19:33:36.846Z"
   },
   {
    "duration": 8,
    "start_time": "2025-05-29T19:35:31.357Z"
   },
   {
    "duration": 6,
    "start_time": "2025-05-29T19:35:41.998Z"
   },
   {
    "duration": 6,
    "start_time": "2025-05-29T19:35:44.065Z"
   },
   {
    "duration": 11,
    "start_time": "2025-05-29T19:35:57.687Z"
   },
   {
    "duration": 8,
    "start_time": "2025-05-29T19:36:11.481Z"
   },
   {
    "duration": 9,
    "start_time": "2025-05-29T19:36:16.701Z"
   },
   {
    "duration": 16,
    "start_time": "2025-05-29T19:37:18.965Z"
   },
   {
    "duration": 10,
    "start_time": "2025-05-29T19:37:23.977Z"
   },
   {
    "duration": 13,
    "start_time": "2025-05-29T19:39:01.273Z"
   },
   {
    "duration": 11,
    "start_time": "2025-05-29T19:39:09.993Z"
   },
   {
    "duration": 9,
    "start_time": "2025-05-29T19:43:03.529Z"
   },
   {
    "duration": 10,
    "start_time": "2025-05-29T19:43:12.283Z"
   },
   {
    "duration": 10,
    "start_time": "2025-05-29T19:44:54.101Z"
   },
   {
    "duration": 466,
    "start_time": "2025-05-29T19:50:42.391Z"
   },
   {
    "duration": 17,
    "start_time": "2025-05-29T19:50:42.858Z"
   },
   {
    "duration": 14,
    "start_time": "2025-05-29T19:50:42.877Z"
   },
   {
    "duration": 12,
    "start_time": "2025-05-29T19:50:42.892Z"
   },
   {
    "duration": 5,
    "start_time": "2025-05-29T19:50:42.906Z"
   },
   {
    "duration": 105,
    "start_time": "2025-05-29T19:50:42.912Z"
   },
   {
    "duration": 30,
    "start_time": "2025-05-29T19:50:43.019Z"
   },
   {
    "duration": 17,
    "start_time": "2025-05-29T19:50:43.051Z"
   },
   {
    "duration": 19,
    "start_time": "2025-05-29T19:50:43.070Z"
   },
   {
    "duration": 5,
    "start_time": "2025-05-29T19:50:43.090Z"
   },
   {
    "duration": 5,
    "start_time": "2025-05-29T19:50:43.096Z"
   },
   {
    "duration": 57,
    "start_time": "2025-05-29T19:50:43.103Z"
   },
   {
    "duration": 9,
    "start_time": "2025-05-29T19:50:43.161Z"
   },
   {
    "duration": 18,
    "start_time": "2025-05-29T19:50:43.173Z"
   },
   {
    "duration": 17,
    "start_time": "2025-05-29T19:50:43.193Z"
   },
   {
    "duration": 4,
    "start_time": "2025-05-29T19:50:43.212Z"
   },
   {
    "duration": 7,
    "start_time": "2025-05-29T19:50:43.238Z"
   },
   {
    "duration": 7,
    "start_time": "2025-05-29T19:50:43.246Z"
   },
   {
    "duration": 8,
    "start_time": "2025-05-29T19:50:43.255Z"
   },
   {
    "duration": 9,
    "start_time": "2025-05-29T19:50:43.265Z"
   },
   {
    "duration": 10,
    "start_time": "2025-05-29T19:50:43.275Z"
   },
   {
    "duration": 14,
    "start_time": "2025-05-29T19:50:43.286Z"
   },
   {
    "duration": 7,
    "start_time": "2025-05-29T19:51:30.443Z"
   },
   {
    "duration": 4,
    "start_time": "2025-05-29T20:00:11.617Z"
   },
   {
    "duration": 5,
    "start_time": "2025-05-29T20:00:17.415Z"
   },
   {
    "duration": 6,
    "start_time": "2025-05-29T20:00:20.126Z"
   },
   {
    "duration": 6,
    "start_time": "2025-05-29T20:00:27.978Z"
   },
   {
    "duration": 7,
    "start_time": "2025-05-29T20:00:29.737Z"
   },
   {
    "duration": 5,
    "start_time": "2025-05-29T20:00:31.132Z"
   },
   {
    "duration": 5,
    "start_time": "2025-05-29T20:00:38.679Z"
   },
   {
    "duration": 5,
    "start_time": "2025-05-29T20:07:51.547Z"
   },
   {
    "duration": 5,
    "start_time": "2025-05-29T20:07:57.020Z"
   },
   {
    "duration": 14,
    "start_time": "2025-05-29T20:08:45.133Z"
   },
   {
    "duration": 505,
    "start_time": "2025-05-29T21:50:29.828Z"
   },
   {
    "duration": 19,
    "start_time": "2025-05-29T21:50:30.335Z"
   },
   {
    "duration": 20,
    "start_time": "2025-05-29T21:50:30.357Z"
   },
   {
    "duration": 4,
    "start_time": "2025-05-29T21:50:30.379Z"
   },
   {
    "duration": 11,
    "start_time": "2025-05-29T21:50:30.386Z"
   },
   {
    "duration": 105,
    "start_time": "2025-05-29T21:50:30.399Z"
   },
   {
    "duration": 30,
    "start_time": "2025-05-29T21:50:30.506Z"
   },
   {
    "duration": 36,
    "start_time": "2025-05-29T21:50:30.538Z"
   },
   {
    "duration": 22,
    "start_time": "2025-05-29T21:50:30.576Z"
   },
   {
    "duration": 5,
    "start_time": "2025-05-29T21:50:30.599Z"
   },
   {
    "duration": 22,
    "start_time": "2025-05-29T21:50:30.605Z"
   },
   {
    "duration": 20,
    "start_time": "2025-05-29T21:50:30.628Z"
   },
   {
    "duration": 85,
    "start_time": "2025-05-29T21:50:30.650Z"
   },
   {
    "duration": 112,
    "start_time": "2025-05-29T21:50:30.737Z"
   },
   {
    "duration": 29,
    "start_time": "2025-05-29T21:50:30.851Z"
   },
   {
    "duration": 17,
    "start_time": "2025-05-29T21:50:30.882Z"
   },
   {
    "duration": 6,
    "start_time": "2025-05-29T21:50:30.901Z"
   },
   {
    "duration": 9,
    "start_time": "2025-05-29T21:50:30.909Z"
   },
   {
    "duration": 38,
    "start_time": "2025-05-29T21:50:30.920Z"
   },
   {
    "duration": 8,
    "start_time": "2025-05-29T21:50:30.960Z"
   },
   {
    "duration": 6,
    "start_time": "2025-05-29T21:50:30.970Z"
   },
   {
    "duration": 6,
    "start_time": "2025-05-29T21:50:30.978Z"
   },
   {
    "duration": 23,
    "start_time": "2025-05-29T21:50:30.985Z"
   },
   {
    "duration": 31,
    "start_time": "2025-05-29T21:50:31.011Z"
   },
   {
    "duration": 504,
    "start_time": "2025-05-29T21:52:02.430Z"
   },
   {
    "duration": 19,
    "start_time": "2025-05-29T21:52:02.936Z"
   },
   {
    "duration": 10,
    "start_time": "2025-05-29T21:52:02.958Z"
   },
   {
    "duration": 13,
    "start_time": "2025-05-29T21:52:02.970Z"
   },
   {
    "duration": 13,
    "start_time": "2025-05-29T21:52:02.985Z"
   },
   {
    "duration": 91,
    "start_time": "2025-05-29T21:52:03.023Z"
   },
   {
    "duration": 29,
    "start_time": "2025-05-29T21:52:03.116Z"
   },
   {
    "duration": 47,
    "start_time": "2025-05-29T21:52:03.147Z"
   },
   {
    "duration": 21,
    "start_time": "2025-05-29T21:52:03.196Z"
   },
   {
    "duration": 7,
    "start_time": "2025-05-29T21:52:03.220Z"
   },
   {
    "duration": 24,
    "start_time": "2025-05-29T21:52:03.229Z"
   },
   {
    "duration": 13,
    "start_time": "2025-05-29T21:52:03.254Z"
   },
   {
    "duration": 28,
    "start_time": "2025-05-29T21:52:03.269Z"
   },
   {
    "duration": 9,
    "start_time": "2025-05-29T21:52:03.299Z"
   },
   {
    "duration": 30,
    "start_time": "2025-05-29T21:52:03.310Z"
   },
   {
    "duration": 27,
    "start_time": "2025-05-29T21:52:03.342Z"
   },
   {
    "duration": 4,
    "start_time": "2025-05-29T21:52:03.371Z"
   },
   {
    "duration": 12,
    "start_time": "2025-05-29T21:52:03.377Z"
   },
   {
    "duration": 24,
    "start_time": "2025-05-29T21:52:03.392Z"
   },
   {
    "duration": 40,
    "start_time": "2025-05-29T21:52:03.417Z"
   },
   {
    "duration": 12,
    "start_time": "2025-05-29T21:52:03.458Z"
   },
   {
    "duration": 8,
    "start_time": "2025-05-29T21:52:03.471Z"
   },
   {
    "duration": 8,
    "start_time": "2025-05-29T21:52:03.480Z"
   },
   {
    "duration": 15,
    "start_time": "2025-05-29T21:52:03.490Z"
   },
   {
    "duration": 48,
    "start_time": "2025-05-30T09:38:44.175Z"
   },
   {
    "duration": 568,
    "start_time": "2025-05-30T09:38:50.062Z"
   },
   {
    "duration": 17,
    "start_time": "2025-05-30T09:38:51.359Z"
   },
   {
    "duration": 31,
    "start_time": "2025-05-30T09:38:54.976Z"
   },
   {
    "duration": 22,
    "start_time": "2025-05-30T09:39:05.619Z"
   },
   {
    "duration": 1243,
    "start_time": "2025-05-30T09:41:10.862Z"
   },
   {
    "duration": 510,
    "start_time": "2025-05-30T09:41:15.401Z"
   },
   {
    "duration": 19,
    "start_time": "2025-05-30T09:41:15.913Z"
   },
   {
    "duration": 92,
    "start_time": "2025-05-30T09:41:15.934Z"
   },
   {
    "duration": 4,
    "start_time": "2025-05-30T09:41:16.028Z"
   },
   {
    "duration": 44,
    "start_time": "2025-05-30T09:41:16.034Z"
   },
   {
    "duration": 111,
    "start_time": "2025-05-30T09:41:16.080Z"
   },
   {
    "duration": 26,
    "start_time": "2025-05-30T09:41:16.193Z"
   },
   {
    "duration": 29,
    "start_time": "2025-05-30T09:41:16.221Z"
   },
   {
    "duration": 22,
    "start_time": "2025-05-30T09:41:16.251Z"
   },
   {
    "duration": 11,
    "start_time": "2025-05-30T09:41:16.275Z"
   },
   {
    "duration": 12,
    "start_time": "2025-05-30T09:41:16.288Z"
   },
   {
    "duration": 73,
    "start_time": "2025-05-30T09:41:16.302Z"
   },
   {
    "duration": 29,
    "start_time": "2025-05-30T09:41:16.377Z"
   },
   {
    "duration": 9,
    "start_time": "2025-05-30T09:41:16.408Z"
   },
   {
    "duration": 18,
    "start_time": "2025-05-30T09:41:16.419Z"
   },
   {
    "duration": 15,
    "start_time": "2025-05-30T09:41:16.438Z"
   },
   {
    "duration": 4,
    "start_time": "2025-05-30T09:41:16.455Z"
   },
   {
    "duration": 11,
    "start_time": "2025-05-30T09:41:16.461Z"
   },
   {
    "duration": 8,
    "start_time": "2025-05-30T09:41:16.474Z"
   },
   {
    "duration": 29,
    "start_time": "2025-05-30T09:41:16.484Z"
   },
   {
    "duration": 26,
    "start_time": "2025-05-30T09:41:16.515Z"
   },
   {
    "duration": 113,
    "start_time": "2025-05-30T09:41:16.543Z"
   },
   {
    "duration": 7,
    "start_time": "2025-05-30T09:41:16.658Z"
   },
   {
    "duration": 17,
    "start_time": "2025-05-30T09:41:16.667Z"
   },
   {
    "duration": 77,
    "start_time": "2025-05-30T09:43:41.249Z"
   },
   {
    "duration": 9,
    "start_time": "2025-05-30T09:43:58.521Z"
   },
   {
    "duration": 12,
    "start_time": "2025-05-30T09:44:50.221Z"
   },
   {
    "duration": 12,
    "start_time": "2025-05-30T09:44:57.314Z"
   },
   {
    "duration": 12,
    "start_time": "2025-05-30T09:45:03.898Z"
   },
   {
    "duration": 13,
    "start_time": "2025-05-30T09:45:11.874Z"
   },
   {
    "duration": 13,
    "start_time": "2025-05-30T09:45:15.897Z"
   },
   {
    "duration": 11,
    "start_time": "2025-05-30T09:45:26.560Z"
   },
   {
    "duration": 16,
    "start_time": "2025-05-30T09:45:37.088Z"
   },
   {
    "duration": 12,
    "start_time": "2025-05-30T09:45:37.576Z"
   },
   {
    "duration": 10,
    "start_time": "2025-05-30T09:46:28.464Z"
   },
   {
    "duration": 14,
    "start_time": "2025-05-30T09:52:17.108Z"
   },
   {
    "duration": 327,
    "start_time": "2025-05-30T09:54:19.165Z"
   },
   {
    "duration": 368,
    "start_time": "2025-05-30T09:55:04.633Z"
   },
   {
    "duration": 64,
    "start_time": "2025-05-30T09:56:24.259Z"
   },
   {
    "duration": 9,
    "start_time": "2025-05-30T09:56:30.648Z"
   },
   {
    "duration": 9,
    "start_time": "2025-05-30T09:56:36.490Z"
   },
   {
    "duration": 343,
    "start_time": "2025-05-30T09:58:01.842Z"
   },
   {
    "duration": 405,
    "start_time": "2025-05-30T10:00:54.152Z"
   },
   {
    "duration": 374,
    "start_time": "2025-05-30T10:00:58.665Z"
   },
   {
    "duration": 10,
    "start_time": "2025-05-30T10:03:11.562Z"
   },
   {
    "duration": 85,
    "start_time": "2025-05-30T10:03:37.937Z"
   },
   {
    "duration": 347,
    "start_time": "2025-05-30T10:03:43.546Z"
   },
   {
    "duration": 14,
    "start_time": "2025-05-30T10:03:54.164Z"
   },
   {
    "duration": 11,
    "start_time": "2025-05-30T10:04:04.587Z"
   },
   {
    "duration": 34,
    "start_time": "2025-05-30T10:06:31.534Z"
   },
   {
    "duration": 4,
    "start_time": "2025-05-30T10:07:45.524Z"
   },
   {
    "duration": 7,
    "start_time": "2025-05-30T10:08:03.290Z"
   },
   {
    "duration": 6,
    "start_time": "2025-05-30T10:08:16.254Z"
   },
   {
    "duration": 14,
    "start_time": "2025-05-30T10:08:52.959Z"
   },
   {
    "duration": 14,
    "start_time": "2025-05-30T10:08:56.650Z"
   },
   {
    "duration": 16,
    "start_time": "2025-05-30T10:09:17.116Z"
   },
   {
    "duration": 15,
    "start_time": "2025-05-30T10:10:02.236Z"
   },
   {
    "duration": 7,
    "start_time": "2025-05-30T10:10:10.081Z"
   },
   {
    "duration": 7,
    "start_time": "2025-05-30T10:10:16.212Z"
   },
   {
    "duration": 6,
    "start_time": "2025-05-30T10:10:18.365Z"
   },
   {
    "duration": 8,
    "start_time": "2025-05-30T10:11:31.374Z"
   },
   {
    "duration": 55,
    "start_time": "2025-05-30T10:11:41.875Z"
   },
   {
    "duration": 8,
    "start_time": "2025-05-30T10:11:51.802Z"
   },
   {
    "duration": 6,
    "start_time": "2025-05-30T10:12:11.933Z"
   },
   {
    "duration": 8,
    "start_time": "2025-05-30T10:13:18.012Z"
   },
   {
    "duration": 9,
    "start_time": "2025-05-30T10:13:23.958Z"
   },
   {
    "duration": 8,
    "start_time": "2025-05-30T10:13:37.598Z"
   },
   {
    "duration": 540,
    "start_time": "2025-05-30T10:14:35.453Z"
   },
   {
    "duration": 18,
    "start_time": "2025-05-30T10:14:35.995Z"
   },
   {
    "duration": 42,
    "start_time": "2025-05-30T10:14:36.015Z"
   },
   {
    "duration": 42,
    "start_time": "2025-05-30T10:14:36.060Z"
   },
   {
    "duration": 68,
    "start_time": "2025-05-30T10:14:36.103Z"
   },
   {
    "duration": 119,
    "start_time": "2025-05-30T10:14:36.172Z"
   },
   {
    "duration": 29,
    "start_time": "2025-05-30T10:14:36.292Z"
   },
   {
    "duration": 29,
    "start_time": "2025-05-30T10:14:36.323Z"
   },
   {
    "duration": 45,
    "start_time": "2025-05-30T10:14:36.353Z"
   },
   {
    "duration": 75,
    "start_time": "2025-05-30T10:14:36.402Z"
   },
   {
    "duration": 38,
    "start_time": "2025-05-30T10:14:36.478Z"
   },
   {
    "duration": 7,
    "start_time": "2025-05-30T10:14:36.518Z"
   },
   {
    "duration": 27,
    "start_time": "2025-05-30T10:14:36.526Z"
   },
   {
    "duration": 29,
    "start_time": "2025-05-30T10:14:36.554Z"
   },
   {
    "duration": 50,
    "start_time": "2025-05-30T10:14:36.584Z"
   },
   {
    "duration": 11,
    "start_time": "2025-05-30T10:14:36.636Z"
   },
   {
    "duration": 18,
    "start_time": "2025-05-30T10:14:36.648Z"
   },
   {
    "duration": 97,
    "start_time": "2025-05-30T10:14:36.667Z"
   },
   {
    "duration": 69,
    "start_time": "2025-05-30T10:14:36.766Z"
   },
   {
    "duration": 147,
    "start_time": "2025-05-30T10:14:36.837Z"
   },
   {
    "duration": 14,
    "start_time": "2025-05-30T10:14:36.986Z"
   },
   {
    "duration": 12,
    "start_time": "2025-05-30T10:14:37.001Z"
   },
   {
    "duration": 13,
    "start_time": "2025-05-30T10:14:37.015Z"
   },
   {
    "duration": 10,
    "start_time": "2025-05-30T10:14:37.029Z"
   },
   {
    "duration": 21,
    "start_time": "2025-05-30T10:14:37.041Z"
   },
   {
    "duration": 25,
    "start_time": "2025-05-30T10:14:37.064Z"
   },
   {
    "duration": 505,
    "start_time": "2025-05-30T10:15:16.640Z"
   },
   {
    "duration": 11,
    "start_time": "2025-05-30T10:16:06.407Z"
   },
   {
    "duration": 342,
    "start_time": "2025-05-30T10:16:23.409Z"
   },
   {
    "duration": 551,
    "start_time": "2025-05-30T10:16:36.112Z"
   },
   {
    "duration": 18,
    "start_time": "2025-05-30T10:16:36.665Z"
   },
   {
    "duration": 31,
    "start_time": "2025-05-30T10:16:36.685Z"
   },
   {
    "duration": 135,
    "start_time": "2025-05-30T10:16:36.718Z"
   },
   {
    "duration": 96,
    "start_time": "2025-05-30T10:16:36.855Z"
   },
   {
    "duration": 116,
    "start_time": "2025-05-30T10:16:36.953Z"
   },
   {
    "duration": 28,
    "start_time": "2025-05-30T10:16:37.071Z"
   },
   {
    "duration": 40,
    "start_time": "2025-05-30T10:16:37.101Z"
   },
   {
    "duration": 28,
    "start_time": "2025-05-30T10:16:37.143Z"
   },
   {
    "duration": 12,
    "start_time": "2025-05-30T10:16:37.174Z"
   },
   {
    "duration": 15,
    "start_time": "2025-05-30T10:16:37.188Z"
   },
   {
    "duration": 5,
    "start_time": "2025-05-30T10:16:37.205Z"
   },
   {
    "duration": 20,
    "start_time": "2025-05-30T10:16:37.211Z"
   },
   {
    "duration": 9,
    "start_time": "2025-05-30T10:16:37.233Z"
   },
   {
    "duration": 51,
    "start_time": "2025-05-30T10:16:37.244Z"
   },
   {
    "duration": 87,
    "start_time": "2025-05-30T10:16:37.297Z"
   },
   {
    "duration": 26,
    "start_time": "2025-05-30T10:16:37.386Z"
   },
   {
    "duration": 15,
    "start_time": "2025-05-30T10:16:37.414Z"
   },
   {
    "duration": 3,
    "start_time": "2025-05-30T10:16:37.431Z"
   },
   {
    "duration": 26,
    "start_time": "2025-05-30T10:16:37.436Z"
   },
   {
    "duration": 40,
    "start_time": "2025-05-30T10:16:37.464Z"
   },
   {
    "duration": 7,
    "start_time": "2025-05-30T10:16:37.506Z"
   },
   {
    "duration": 8,
    "start_time": "2025-05-30T10:16:37.515Z"
   },
   {
    "duration": 11,
    "start_time": "2025-05-30T10:16:37.525Z"
   },
   {
    "duration": 12,
    "start_time": "2025-05-30T10:16:37.537Z"
   },
   {
    "duration": 552,
    "start_time": "2025-05-30T10:16:37.550Z"
   },
   {
    "duration": 16,
    "start_time": "2025-05-30T10:16:38.103Z"
   },
   {
    "duration": 2,
    "start_time": "2025-05-30T10:16:56.822Z"
   },
   {
    "duration": 2,
    "start_time": "2025-05-30T10:16:59.938Z"
   },
   {
    "duration": 3,
    "start_time": "2025-05-30T10:17:00.782Z"
   },
   {
    "duration": 527,
    "start_time": "2025-05-30T12:22:52.361Z"
   },
   {
    "duration": 17,
    "start_time": "2025-05-30T12:22:52.890Z"
   },
   {
    "duration": 23,
    "start_time": "2025-05-30T12:22:52.909Z"
   },
   {
    "duration": 3,
    "start_time": "2025-05-30T12:22:52.933Z"
   },
   {
    "duration": 15,
    "start_time": "2025-05-30T12:22:52.938Z"
   },
   {
    "duration": 170,
    "start_time": "2025-05-30T12:22:52.955Z"
   },
   {
    "duration": 28,
    "start_time": "2025-05-30T12:22:53.127Z"
   },
   {
    "duration": 160,
    "start_time": "2025-05-30T12:22:53.156Z"
   },
   {
    "duration": 26,
    "start_time": "2025-05-30T12:22:53.317Z"
   },
   {
    "duration": 10,
    "start_time": "2025-05-30T12:22:53.344Z"
   },
   {
    "duration": 4,
    "start_time": "2025-05-30T12:22:53.355Z"
   },
   {
    "duration": 15,
    "start_time": "2025-05-30T12:22:53.360Z"
   },
   {
    "duration": 7,
    "start_time": "2025-05-30T12:22:53.376Z"
   },
   {
    "duration": 3,
    "start_time": "2025-05-30T12:22:53.385Z"
   },
   {
    "duration": 23,
    "start_time": "2025-05-30T12:22:53.389Z"
   },
   {
    "duration": 29,
    "start_time": "2025-05-30T12:22:53.414Z"
   },
   {
    "duration": 20,
    "start_time": "2025-05-30T12:22:53.444Z"
   },
   {
    "duration": 15,
    "start_time": "2025-05-30T12:22:53.466Z"
   },
   {
    "duration": 4,
    "start_time": "2025-05-30T12:22:53.482Z"
   },
   {
    "duration": 17,
    "start_time": "2025-05-30T12:22:53.487Z"
   },
   {
    "duration": 10,
    "start_time": "2025-05-30T12:22:53.506Z"
   },
   {
    "duration": 17,
    "start_time": "2025-05-30T12:22:53.518Z"
   },
   {
    "duration": 4,
    "start_time": "2025-05-30T12:22:53.537Z"
   },
   {
    "duration": 17,
    "start_time": "2025-05-30T12:22:53.543Z"
   },
   {
    "duration": 11,
    "start_time": "2025-05-30T12:22:53.562Z"
   },
   {
    "duration": 752,
    "start_time": "2025-05-30T12:22:53.574Z"
   },
   {
    "duration": 18,
    "start_time": "2025-05-30T12:22:54.335Z"
   }
  ],
  "colab": {
   "provenance": []
  },
  "kernelspec": {
   "display_name": "Python 3 (ipykernel)",
   "language": "python",
   "name": "python3"
  },
  "language_info": {
   "codemirror_mode": {
    "name": "ipython",
    "version": 3
   },
   "file_extension": ".py",
   "mimetype": "text/x-python",
   "name": "python",
   "nbconvert_exporter": "python",
   "pygments_lexer": "ipython3",
   "version": "3.9.5"
  },
  "toc": {
   "base_numbering": 1,
   "nav_menu": {},
   "number_sections": true,
   "sideBar": true,
   "skip_h1_title": true,
   "title_cell": "Table of Contents",
   "title_sidebar": "Contents",
   "toc_cell": false,
   "toc_position": {},
   "toc_section_display": true,
   "toc_window_display": false
  }
 },
 "nbformat": 4,
 "nbformat_minor": 5
}
